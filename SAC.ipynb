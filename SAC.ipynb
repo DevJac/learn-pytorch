{
 "cells": [
  {
   "cell_type": "code",
   "execution_count": 1,
   "id": "2601a6b5",
   "metadata": {},
   "outputs": [
    {
     "name": "stderr",
     "output_type": "stream",
     "text": [
      "/home/devjac/Code/python/learn-pytorch/.venv/lib/python3.10/site-packages/gym/wrappers/monitoring/video_recorder.py:9: DeprecationWarning: The distutils package is deprecated and slated for removal in Python 3.12. Use setuptools or check PEP 632 for potential alternatives\n",
      "  import distutils.spawn\n"
     ]
    }
   ],
   "source": [
    "import gym\n",
    "import torch\n",
    "from torch import nn\n",
    "from collections import namedtuple, deque\n",
    "import itertools\n",
    "from copy import deepcopy\n",
    "import random\n",
    "import numpy as np\n",
    "from torch.utils.tensorboard import SummaryWriter\n",
    "import tqdm\n",
    "from math import log"
   ]
  },
  {
   "cell_type": "code",
   "execution_count": 2,
   "id": "aaf90475",
   "metadata": {},
   "outputs": [],
   "source": [
    "RENDER = False"
   ]
  },
  {
   "cell_type": "code",
   "execution_count": 3,
   "id": "cf163657",
   "metadata": {},
   "outputs": [],
   "source": [
    "env = gym.make(\"LunarLander-v2\")"
   ]
  },
  {
   "cell_type": "code",
   "execution_count": 4,
   "id": "d5f9a955",
   "metadata": {},
   "outputs": [],
   "source": [
    "# How much we value entropy / exploration.\n",
    "ALPHA_TARGET = 0.8 * log(env.action_space.n)            \n",
    "GAMMA = 1 - 0.01        # How much we value future rewards.\n",
    "TAU = 0.01              # How much q_target is updated when polyak averaging (step 15).\n",
    "POLICY_LR = 0.001       # Policy learning rate.\n",
    "Q_LR = 0.001            # Q learning rate.\n",
    "ALPHA_LR = 0.001        # ALPHA learning rate."
   ]
  },
  {
   "cell_type": "code",
   "execution_count": 5,
   "id": "89982995",
   "metadata": {},
   "outputs": [],
   "source": [
    "SARS = namedtuple('SARS', 'state, action, reward, next_state, t, failed, limit')"
   ]
  },
  {
   "cell_type": "code",
   "execution_count": 6,
   "id": "b2cd7e57",
   "metadata": {},
   "outputs": [
    {
     "data": {
      "text/plain": [
       "tensor([1., 2., 3.], dtype=torch.float64)"
      ]
     },
     "metadata": {},
     "output_type": "display_data"
    },
    {
     "data": {
      "text/plain": [
       "tensor([0.0900, 0.2447, 0.6652], dtype=torch.float64)"
      ]
     },
     "metadata": {},
     "output_type": "display_data"
    },
    {
     "data": {
      "text/plain": [
       "tensor(1.0000, dtype=torch.float64)"
      ]
     },
     "execution_count": 6,
     "metadata": {},
     "output_type": "execute_result"
    }
   ],
   "source": [
    "softmax = nn.Softmax(dim=0)\n",
    "input = torch.tensor([1, 2, 3], dtype=float)\n",
    "display(input)\n",
    "output = softmax(input)\n",
    "display(output)\n",
    "sum(output)"
   ]
  },
  {
   "cell_type": "code",
   "execution_count": 7,
   "id": "10ba09d7",
   "metadata": {},
   "outputs": [
    {
     "data": {
      "text/plain": [
       "tensor([[1., 2., 3.],\n",
       "        [1., 2., 3.],\n",
       "        [3., 3., 3.]], dtype=torch.float64)"
      ]
     },
     "metadata": {},
     "output_type": "display_data"
    },
    {
     "data": {
      "text/plain": [
       "tensor([[0.0900, 0.2447, 0.6652],\n",
       "        [0.0900, 0.2447, 0.6652],\n",
       "        [0.3333, 0.3333, 0.3333]], dtype=torch.float64)"
      ]
     },
     "metadata": {},
     "output_type": "display_data"
    },
    {
     "data": {
      "text/plain": [
       "tensor([0.5134, 0.8228, 1.6638], dtype=torch.float64)"
      ]
     },
     "execution_count": 7,
     "metadata": {},
     "output_type": "execute_result"
    }
   ],
   "source": [
    "softmax = nn.Softmax(dim=1)\n",
    "input = torch.tensor([[1, 2, 3], [1, 2, 3], [3, 3, 3]], dtype=float)\n",
    "display(input)\n",
    "output = softmax(input)\n",
    "display(output)\n",
    "sum(output)"
   ]
  },
  {
   "cell_type": "code",
   "execution_count": 8,
   "id": "e24dbb73",
   "metadata": {},
   "outputs": [],
   "source": [
    "class PolicyNetwork(nn.Module):\n",
    "    def __init__(self, input_size, output_size):\n",
    "        super().__init__()\n",
    "        self.linear_relu_stack = nn.Sequential(\n",
    "            nn.Linear(input_size, 2000),\n",
    "            nn.ReLU(),\n",
    "            nn.Linear(2000, 1500),\n",
    "            nn.ReLU(),\n",
    "            nn.Linear(1500, output_size)\n",
    "        )\n",
    "\n",
    "    def forward(self, x):\n",
    "        nn_out = self.linear_relu_stack(x)\n",
    "        return nn.Softmax(dim=1)(nn_out)\n",
    "\n",
    "    def __call__(self, x):\n",
    "        raise RuntimeError(\"Use forward\")"
   ]
  },
  {
   "cell_type": "code",
   "execution_count": 9,
   "id": "357a97db",
   "metadata": {},
   "outputs": [
    {
     "data": {
      "text/plain": [
       "PolicyNetwork(\n",
       "  (linear_relu_stack): Sequential(\n",
       "    (0): Linear(in_features=4, out_features=2000, bias=True)\n",
       "    (1): ReLU()\n",
       "    (2): Linear(in_features=2000, out_features=1500, bias=True)\n",
       "    (3): ReLU()\n",
       "    (4): Linear(in_features=1500, out_features=2, bias=True)\n",
       "  )\n",
       ")"
      ]
     },
     "execution_count": 9,
     "metadata": {},
     "output_type": "execute_result"
    }
   ],
   "source": [
    "policy_network = PolicyNetwork(4, 2)\n",
    "policy_network"
   ]
  },
  {
   "cell_type": "code",
   "execution_count": 10,
   "id": "8763d75f",
   "metadata": {},
   "outputs": [
    {
     "data": {
      "text/plain": [
       "True"
      ]
     },
     "execution_count": 10,
     "metadata": {},
     "output_type": "execute_result"
    }
   ],
   "source": [
    "torch.cuda.is_available()"
   ]
  },
  {
   "cell_type": "code",
   "execution_count": 11,
   "id": "c65c4c8e",
   "metadata": {},
   "outputs": [
    {
     "data": {
      "text/plain": [
       "'cuda'"
      ]
     },
     "execution_count": 11,
     "metadata": {},
     "output_type": "execute_result"
    }
   ],
   "source": [
    "device = 'cuda' if torch.cuda.is_available() else 'cpu'\n",
    "device"
   ]
  },
  {
   "cell_type": "code",
   "execution_count": 12,
   "id": "57f14cd7",
   "metadata": {},
   "outputs": [
    {
     "data": {
      "text/plain": [
       "tensor([[0.7214, 0.7215, 0.3766, 0.8725],\n",
       "        [0.9382, 0.8720, 0.7283, 0.2236],\n",
       "        [0.5513, 0.5107, 0.4888, 0.5453],\n",
       "        [0.2224, 0.6237, 0.0639, 0.5532],\n",
       "        [0.7662, 0.4477, 0.6061, 0.4348]])"
      ]
     },
     "execution_count": 12,
     "metadata": {},
     "output_type": "execute_result"
    }
   ],
   "source": [
    "mock_states = torch.rand(5, 4)\n",
    "mock_states"
   ]
  },
  {
   "cell_type": "code",
   "execution_count": 13,
   "id": "bf6c7db9",
   "metadata": {},
   "outputs": [
    {
     "data": {
      "text/plain": [
       "tensor([[0.5189, 0.4811],\n",
       "        [0.5126, 0.4874],\n",
       "        [0.5140, 0.4860],\n",
       "        [0.5109, 0.4891],\n",
       "        [0.5130, 0.4870]], grad_fn=<SoftmaxBackward0>)"
      ]
     },
     "execution_count": 13,
     "metadata": {},
     "output_type": "execute_result"
    }
   ],
   "source": [
    "policy_network.forward(mock_states)"
   ]
  },
  {
   "cell_type": "code",
   "execution_count": 14,
   "id": "d287d8fe",
   "metadata": {},
   "outputs": [],
   "source": [
    "class QNetwork(nn.Module):\n",
    "    def __init__(self, input_size, output_size):\n",
    "        super().__init__()\n",
    "        self.linear_relu_stack = nn.Sequential(\n",
    "            nn.Linear(input_size, 2000),\n",
    "            nn.ReLU(),\n",
    "            nn.Linear(2000, 1500),\n",
    "            nn.ReLU(),\n",
    "            nn.Linear(1500, output_size)\n",
    "        )\n",
    "\n",
    "    def forward(self, x):\n",
    "        nn_out = self.linear_relu_stack(x)\n",
    "        return nn_out\n",
    "    \n",
    "    def __call__(self, x):\n",
    "        raise RuntimeError(\"Use forward\")"
   ]
  },
  {
   "cell_type": "code",
   "execution_count": 15,
   "id": "a80af706",
   "metadata": {},
   "outputs": [
    {
     "data": {
      "text/plain": [
       "QNetwork(\n",
       "  (linear_relu_stack): Sequential(\n",
       "    (0): Linear(in_features=4, out_features=2000, bias=True)\n",
       "    (1): ReLU()\n",
       "    (2): Linear(in_features=2000, out_features=1500, bias=True)\n",
       "    (3): ReLU()\n",
       "    (4): Linear(in_features=1500, out_features=2, bias=True)\n",
       "  )\n",
       ")"
      ]
     },
     "execution_count": 15,
     "metadata": {},
     "output_type": "execute_result"
    }
   ],
   "source": [
    "q_network = QNetwork(4, 2)\n",
    "q_network"
   ]
  },
  {
   "cell_type": "code",
   "execution_count": 16,
   "id": "8e7c0e77",
   "metadata": {},
   "outputs": [
    {
     "data": {
      "text/plain": [
       "tensor([[0.0485, 0.0901],\n",
       "        [0.0807, 0.1153],\n",
       "        [0.0455, 0.0862],\n",
       "        [0.0277, 0.0566],\n",
       "        [0.0541, 0.1082]], grad_fn=<AddmmBackward0>)"
      ]
     },
     "execution_count": 16,
     "metadata": {},
     "output_type": "execute_result"
    }
   ],
   "source": [
    "q_network.forward(mock_states)"
   ]
  },
  {
   "cell_type": "code",
   "execution_count": 17,
   "id": "0aeb9346",
   "metadata": {},
   "outputs": [],
   "source": [
    "def run_episode(action_f, step_f, env, policy, fail_at_limit=False):\n",
    "    episode_reward = 0\n",
    "    s = env.reset()\n",
    "    for t in itertools.count(start=1):\n",
    "        a = action_f(policy, s)\n",
    "        next_state, reward, failed, info = env.step(a)\n",
    "        episode_reward += reward\n",
    "        assert t <= env._max_episode_steps\n",
    "        limit = t == env._max_episode_steps\n",
    "        if limit and not fail_at_limit:\n",
    "            failed = False\n",
    "        assert fail_at_limit or not (limit and failed)\n",
    "        step_f(s, a, reward, next_state, t, failed, limit)\n",
    "        if failed or limit:\n",
    "            break\n",
    "        s = next_state\n",
    "    return episode_reward"
   ]
  },
  {
   "cell_type": "code",
   "execution_count": 18,
   "id": "e867c0c8",
   "metadata": {},
   "outputs": [],
   "source": [
    "class Policy:\n",
    "    def __init__(self, env_state_size, env_action_space_size):\n",
    "        self.policy_network = PolicyNetwork(env_state_size, env_action_space_size)\n",
    "        self.q1_network = QNetwork(env_state_size, env_action_space_size)\n",
    "        self.q2_network = QNetwork(env_state_size, env_action_space_size)\n",
    "        self.q1_target_network = deepcopy(self.q1_network)\n",
    "        self.q2_target_network = deepcopy(self.q2_network)\n",
    "        self.alpha = torch.tensor(ALPHA_TARGET, dtype=float, requires_grad=True)\n",
    "        self.policy_network.to(device)\n",
    "        self.q1_network.to(device)\n",
    "        self.q2_network.to(device)\n",
    "        self.q1_target_network.to(device)\n",
    "        self.q2_target_network.to(device)\n",
    "        self.alpha.to(device)\n",
    "        self.reset_optimizers()\n",
    "\n",
    "    def reset_optimizers(self):\n",
    "        self.policy_optimizer = torch.optim.SGD(self.policy_network.parameters(), lr=POLICY_LR)\n",
    "        self.q1_optimizer = torch.optim.SGD(self.q1_network.parameters(), lr=Q_LR)\n",
    "        self.q2_optimizer = torch.optim.SGD(self.q2_network.parameters(), lr=Q_LR)\n",
    "\n",
    "    @property\n",
    "    def alpha_dc(self):\n",
    "        \"\"\"Alpha, (D)etached and (C)lamped\"\"\"\n",
    "        return self.alpha.detach().clamp(min=0)"
   ]
  },
  {
   "cell_type": "code",
   "execution_count": 19,
   "id": "258ee690",
   "metadata": {},
   "outputs": [
    {
     "data": {
      "text/plain": [
       "tensor(1., dtype=torch.float64, requires_grad=True)"
      ]
     },
     "metadata": {},
     "output_type": "display_data"
    },
    {
     "data": {
      "text/plain": [
       "SGD (\n",
       "Parameter Group 0\n",
       "    dampening: 0\n",
       "    lr: 0.001\n",
       "    maximize: False\n",
       "    momentum: 0\n",
       "    nesterov: False\n",
       "    weight_decay: 0\n",
       ")"
      ]
     },
     "execution_count": 19,
     "metadata": {},
     "output_type": "execute_result"
    }
   ],
   "source": [
    "t = torch.tensor(1, dtype=float, requires_grad=True)\n",
    "display(t)\n",
    "torch.optim.SGD([t], lr=ALPHA_LR)"
   ]
  },
  {
   "cell_type": "code",
   "execution_count": 20,
   "id": "c2ef4891",
   "metadata": {},
   "outputs": [],
   "source": [
    "replay_buffer = deque(maxlen=30_000)"
   ]
  },
  {
   "cell_type": "code",
   "execution_count": 21,
   "id": "3835dfbd",
   "metadata": {},
   "outputs": [
    {
     "data": {
      "text/plain": [
       "4"
      ]
     },
     "execution_count": 21,
     "metadata": {},
     "output_type": "execute_result"
    }
   ],
   "source": [
    "env.action_space.n"
   ]
  },
  {
   "cell_type": "code",
   "execution_count": 22,
   "id": "a3d9ddd9",
   "metadata": {},
   "outputs": [
    {
     "data": {
      "text/plain": [
       "(8,)"
      ]
     },
     "execution_count": 22,
     "metadata": {},
     "output_type": "execute_result"
    }
   ],
   "source": [
    "env.observation_space.shape"
   ]
  },
  {
   "cell_type": "code",
   "execution_count": 23,
   "id": "856e3ded",
   "metadata": {},
   "outputs": [],
   "source": [
    "oss = env.observation_space.shape\n",
    "if len(oss) != 1:\n",
    "    raise RuntimeError(f'Unknown observation_space.shape: {oss}')\n",
    "os_len = oss[0]\n",
    "policy = Policy(os_len, env.action_space.n)"
   ]
  },
  {
   "cell_type": "code",
   "execution_count": 24,
   "id": "26178da9",
   "metadata": {},
   "outputs": [
    {
     "data": {
      "text/plain": [
       "array([-0.00504427,  1.4097033 , -0.51096046, -0.0540935 ,  0.00585198,\n",
       "        0.11574016,  0.        ,  0.        ], dtype=float32)"
      ]
     },
     "execution_count": 24,
     "metadata": {},
     "output_type": "execute_result"
    }
   ],
   "source": [
    "s = env.reset()\n",
    "s"
   ]
  },
  {
   "cell_type": "code",
   "execution_count": 25,
   "id": "c20fffdd",
   "metadata": {},
   "outputs": [
    {
     "data": {
      "text/plain": [
       "tensor([[-0.0050,  1.4097, -0.5110, -0.0541,  0.0059,  0.1157,  0.0000,  0.0000]])"
      ]
     },
     "execution_count": 25,
     "metadata": {},
     "output_type": "execute_result"
    }
   ],
   "source": [
    "s = torch.tensor(s).reshape((1, -1))\n",
    "s"
   ]
  },
  {
   "cell_type": "code",
   "execution_count": 26,
   "id": "8200ac15",
   "metadata": {},
   "outputs": [
    {
     "data": {
      "text/plain": [
       "tensor([[0.2637, 0.2348, 0.2614, 0.2402]], device='cuda:0',\n",
       "       grad_fn=<SoftmaxBackward0>)"
      ]
     },
     "execution_count": 26,
     "metadata": {},
     "output_type": "execute_result"
    }
   ],
   "source": [
    "policy_output = policy.policy_network.forward(s.to(device))\n",
    "policy_output"
   ]
  },
  {
   "cell_type": "code",
   "execution_count": 27,
   "id": "f3eb4daa",
   "metadata": {},
   "outputs": [],
   "source": [
    "action_weights = policy_output.reshape((-1,)).tolist()"
   ]
  },
  {
   "cell_type": "code",
   "execution_count": 28,
   "id": "481df43a",
   "metadata": {},
   "outputs": [
    {
     "data": {
      "text/plain": [
       "[0, 1, 2, 3]"
      ]
     },
     "execution_count": 28,
     "metadata": {},
     "output_type": "execute_result"
    }
   ],
   "source": [
    "list(range(4))"
   ]
  },
  {
   "cell_type": "code",
   "execution_count": 29,
   "id": "2b78db85",
   "metadata": {},
   "outputs": [
    {
     "data": {
      "text/plain": [
       "3"
      ]
     },
     "execution_count": 29,
     "metadata": {},
     "output_type": "execute_result"
    }
   ],
   "source": [
    "action = random.choices(range(len(action_weights)), weights=action_weights)[0]\n",
    "action"
   ]
  },
  {
   "cell_type": "code",
   "execution_count": 30,
   "id": "a11637db",
   "metadata": {},
   "outputs": [],
   "source": [
    "def action(policy, s):\n",
    "    tensor_s = torch.tensor(s).reshape((1, -1)).to(device)\n",
    "    action_weights = policy.policy_network.forward(tensor_s).reshape((-1,)).tolist()\n",
    "    action = random.choices(range(len(action_weights)), weights=action_weights)[0]\n",
    "    return action\n",
    "\n",
    "def step(initial_s, a, r, next_s, t, failed, limit):\n",
    "    replay_buffer.append(SARS(initial_s, a, r, next_s, t, failed, limit))\n",
    "    if RENDER:\n",
    "        env.render()"
   ]
  },
  {
   "cell_type": "code",
   "execution_count": 31,
   "id": "b642f7cd",
   "metadata": {},
   "outputs": [
    {
     "data": {
      "text/plain": [
       "-142.5046586585035"
      ]
     },
     "execution_count": 31,
     "metadata": {},
     "output_type": "execute_result"
    }
   ],
   "source": [
    "run_episode(action, step, env, policy)"
   ]
  },
  {
   "cell_type": "code",
   "execution_count": 32,
   "id": "b9107af2",
   "metadata": {},
   "outputs": [
    {
     "data": {
      "text/plain": [
       "137"
      ]
     },
     "execution_count": 32,
     "metadata": {},
     "output_type": "execute_result"
    }
   ],
   "source": [
    "len(replay_buffer)"
   ]
  },
  {
   "cell_type": "code",
   "execution_count": 33,
   "id": "4e377098",
   "metadata": {
    "scrolled": true
   },
   "outputs": [
    {
     "data": {
      "text/plain": [
       "deque([SARS(state=array([-0.00341415,  1.4199383 , -0.34582967,  0.4008054 ,  0.00396292,\n",
       "               0.07833554,  0.        ,  0.        ], dtype=float32), action=0, reward=0.7184532415034539, next_state=array([-0.00682869,  1.4283781 , -0.34536165,  0.3750935 ,  0.00783391,\n",
       "               0.0774275 ,  0.        ,  0.        ], dtype=float32), t=1, failed=False, limit=False),\n",
       "       SARS(state=array([-0.00682869,  1.4283781 , -0.34536165,  0.3750935 ,  0.00783391,\n",
       "               0.0774275 ,  0.        ,  0.        ], dtype=float32), action=0, reward=0.7514958865412495, next_state=array([-0.01024332,  1.4362193 , -0.34537405,  0.34847087,  0.01170254,\n",
       "               0.07737967,  0.        ,  0.        ], dtype=float32), t=2, failed=False, limit=False),\n",
       "       SARS(state=array([-0.01024332,  1.4362193 , -0.34537405,  0.34847087,  0.01170254,\n",
       "               0.07737967,  0.        ,  0.        ], dtype=float32), action=3, reward=1.4201871939735338, next_state=array([-0.01359787,  1.4434582 , -0.3378345 ,  0.32170567,  0.01405691,\n",
       "               0.04709173,  0.        ,  0.        ], dtype=float32), t=3, failed=False, limit=False),\n",
       "       SARS(state=array([-0.01359787,  1.4434582 , -0.3378345 ,  0.32170567,  0.01405691,\n",
       "               0.04709173,  0.        ,  0.        ], dtype=float32), action=0, reward=0.8941766844919812, next_state=array([-0.01695242,  1.4500971 , -0.33784083,  0.2950368 ,  0.01641157,\n",
       "               0.04709776,  0.        ,  0.        ], dtype=float32), t=4, failed=False, limit=False),\n",
       "       SARS(state=array([-0.01695242,  1.4500971 , -0.33784083,  0.2950368 ,  0.01641157,\n",
       "               0.04709776,  0.        ,  0.        ], dtype=float32), action=2, reward=-4.560949273095491, next_state=array([-0.0204771 ,  1.4574594 , -0.35409835,  0.32720092,  0.01802169,\n",
       "               0.03220555,  0.        ,  0.        ], dtype=float32), t=5, failed=False, limit=False),\n",
       "       SARS(state=array([-0.0204771 ,  1.4574594 , -0.35409835,  0.32720092,  0.01802169,\n",
       "               0.03220555,  0.        ,  0.        ], dtype=float32), action=2, reward=-2.1786776424686023, next_state=array([-0.02400312,  1.4651262 , -0.35428384,  0.34072405,  0.01967733,\n",
       "               0.03311602,  0.        ,  0.        ], dtype=float32), t=6, failed=False, limit=False),\n",
       "       SARS(state=array([-0.02400312,  1.4651262 , -0.35428384,  0.34072405,  0.01967733,\n",
       "               0.03311602,  0.        ,  0.        ], dtype=float32), action=2, reward=-2.970516128793963, next_state=array([-0.02768421,  1.4730229 , -0.36909434,  0.3509572 ,  0.0206456 ,\n",
       "               0.01936777,  0.        ,  0.        ], dtype=float32), t=7, failed=False, limit=False),\n",
       "       SARS(state=array([-0.02768421,  1.4730229 , -0.36909434,  0.3509572 ,  0.0206456 ,\n",
       "               0.01936777,  0.        ,  0.        ], dtype=float32), action=3, reward=1.6554320113528445, next_state=array([-0.03130398,  1.4803231 , -0.3613916 ,  0.32445052,  0.02006867,\n",
       "              -0.01154003,  0.        ,  0.        ], dtype=float32), t=8, failed=False, limit=False),\n",
       "       SARS(state=array([-0.03130398,  1.4803231 , -0.3613916 ,  0.32445052,  0.02006867,\n",
       "              -0.01154003,  0.        ,  0.        ], dtype=float32), action=1, reward=0.3242113880659201, next_state=array([-0.03498926,  1.4870102 , -0.3696159 ,  0.29719594,  0.02114546,\n",
       "               0.02153762,  0.        ,  0.        ], dtype=float32), t=9, failed=False, limit=False),\n",
       "       SARS(state=array([-0.03498926,  1.4870102 , -0.3696159 ,  0.29719594,  0.02114546,\n",
       "               0.02153762,  0.        ,  0.        ], dtype=float32), action=0, reward=0.8984308681412756, next_state=array([-0.03867454,  1.4930975 , -0.3696198 ,  0.2705274 ,  0.02222101,\n",
       "               0.02151342,  0.        ,  0.        ], dtype=float32), t=10, failed=False, limit=False),\n",
       "       SARS(state=array([-0.03867454,  1.4930975 , -0.3696198 ,  0.2705274 ,  0.02222101,\n",
       "               0.02151342,  0.        ,  0.        ], dtype=float32), action=2, reward=-3.1112293860695273, next_state=array([-0.04253092,  1.4994928 , -0.3859668 ,  0.28422767,  0.02255089,\n",
       "               0.00659819,  0.        ,  0.        ], dtype=float32), t=11, failed=False, limit=False),\n",
       "       SARS(state=array([-0.04253092,  1.4994928 , -0.3859668 ,  0.28422767,  0.02255089,\n",
       "               0.00659819,  0.        ,  0.        ], dtype=float32), action=3, reward=2.162702788286937, next_state=array([-0.04628916,  1.5052794 , -0.37366587,  0.25721794,  0.02041928,\n",
       "              -0.0426364 ,  0.        ,  0.        ], dtype=float32), t=12, failed=False, limit=False),\n",
       "       SARS(state=array([-0.04628916,  1.5052794 , -0.37366587,  0.25721794,  0.02041928,\n",
       "              -0.0426364 ,  0.        ,  0.        ], dtype=float32), action=3, reward=2.0809148180426873, next_state=array([-0.04997253,  1.5104709 , -0.36428192,  0.23078372,  0.01640796,\n",
       "              -0.0802341 ,  0.        ,  0.        ], dtype=float32), t=13, failed=False, limit=False),\n",
       "       SARS(state=array([-0.04997253,  1.5104709 , -0.36428192,  0.23078372,  0.01640796,\n",
       "              -0.0802341 ,  0.        ,  0.        ], dtype=float32), action=3, reward=2.373903468786638, next_state=array([-0.05357351,  1.5150611 , -0.35394746,  0.20407015,  0.01032921,\n",
       "              -0.12158589,  0.        ,  0.        ], dtype=float32), t=14, failed=False, limit=False),\n",
       "       SARS(state=array([-0.05357351,  1.5150611 , -0.35394746,  0.20407015,  0.01032921,\n",
       "              -0.12158589,  0.        ,  0.        ], dtype=float32), action=2, reward=-2.9635098277569965, next_state=array([-0.05734167,  1.5202813 , -0.36991185,  0.23204453,  0.00350402,\n",
       "              -0.13651624,  0.        ,  0.        ], dtype=float32), t=15, failed=False, limit=False),\n",
       "       SARS(state=array([-0.05734167,  1.5202813 , -0.36991185,  0.23204453,  0.00350402,\n",
       "              -0.13651624,  0.        ,  0.        ], dtype=float32), action=3, reward=1.437435496603457, next_state=array([-0.06104326,  1.524899  , -0.36156958,  0.20522651, -0.00498733,\n",
       "              -0.16984224,  0.        ,  0.        ], dtype=float32), t=16, failed=False, limit=False),\n",
       "       SARS(state=array([-0.06104326,  1.524899  , -0.36156958,  0.20522651, -0.00498733,\n",
       "              -0.16984224,  0.        ,  0.        ], dtype=float32), action=2, reward=-2.537217958806269, next_state=array([-0.06471233,  1.5300167 , -0.35845524,  0.22740766, -0.0133433 ,\n",
       "              -0.16713475,  0.        ,  0.        ], dtype=float32), t=17, failed=False, limit=False),\n",
       "       SARS(state=array([-0.06471233,  1.5300167 , -0.35845524,  0.22740766, -0.0133433 ,\n",
       "              -0.16713475,  0.        ,  0.        ], dtype=float32), action=0, reward=0.0667920572365972, next_state=array([-0.06838121,  1.5345352 , -0.35843152,  0.20072487, -0.02169842,\n",
       "              -0.16711757,  0.        ,  0.        ], dtype=float32), t=18, failed=False, limit=False),\n",
       "       SARS(state=array([-0.06838121,  1.5345352 , -0.35843152,  0.20072487, -0.02169842,\n",
       "              -0.16711757,  0.        ,  0.        ], dtype=float32), action=0, reward=-0.006353763798159662, next_state=array([-0.07204981,  1.5384544 , -0.35840756,  0.17405435, -0.03005222,\n",
       "              -0.1670914 ,  0.        ,  0.        ], dtype=float32), t=19, failed=False, limit=False),\n",
       "       SARS(state=array([-0.07204981,  1.5384544 , -0.35840756,  0.17405435, -0.03005222,\n",
       "              -0.1670914 ,  0.        ,  0.        ], dtype=float32), action=3, reward=0.5451580162310006, next_state=array([-0.07564621,  1.5417675 , -0.34937018,  0.14701119, -0.04021405,\n",
       "              -0.20325477,  0.        ,  0.        ], dtype=float32), t=20, failed=False, limit=False),\n",
       "       SARS(state=array([-0.07564621,  1.5417675 , -0.34937018,  0.14701119, -0.04021405,\n",
       "              -0.20325477,  0.        ,  0.        ], dtype=float32), action=3, reward=0.3672250194246385, next_state=array([-0.07916136,  1.5444883 , -0.33920506,  0.12055067, -0.05239929,\n",
       "              -0.24372694,  0.        ,  0.        ], dtype=float32), t=21, failed=False, limit=False),\n",
       "       SARS(state=array([-0.07916136,  1.5444883 , -0.33920506,  0.12055067, -0.05239929,\n",
       "              -0.24372694,  0.        ,  0.        ], dtype=float32), action=2, reward=-0.3213605708345881, next_state=array([-0.08246412,  1.5475038 , -0.31881875,  0.13359025, -0.06374291,\n",
       "              -0.22689298,  0.        ,  0.        ], dtype=float32), t=22, failed=False, limit=False),\n",
       "       SARS(state=array([-0.08246412,  1.5475038 , -0.31881875,  0.13359025, -0.06374291,\n",
       "              -0.22689298,  0.        ,  0.        ], dtype=float32), action=2, reward=-1.2399970911247806, next_state=array([-0.0855362 ,  1.5512829 , -0.29657757,  0.16746229, -0.07428846,\n",
       "              -0.21092954,  0.        ,  0.        ], dtype=float32), t=23, failed=False, limit=False),\n",
       "       SARS(state=array([-0.0855362 ,  1.5512829 , -0.29657757,  0.16746229, -0.07428846,\n",
       "              -0.21092954,  0.        ,  0.        ], dtype=float32), action=0, reward=-0.15682036822363443, next_state=array([-0.08860798,  1.5544629 , -0.29654962,  0.14077577, -0.08483273,\n",
       "              -0.21090369,  0.        ,  0.        ], dtype=float32), t=24, failed=False, limit=False),\n",
       "       SARS(state=array([-0.08860798,  1.5544629 , -0.29654962,  0.14077577, -0.08483273,\n",
       "              -0.21090369,  0.        ,  0.        ], dtype=float32), action=0, reward=-0.24973554032618495, next_state=array([-0.09168072,  1.5570232 , -0.29664013,  0.11315091, -0.09537591,\n",
       "              -0.2108633 ,  0.        ,  0.        ], dtype=float32), t=25, failed=False, limit=False),\n",
       "       SARS(state=array([-0.09168072,  1.5570232 , -0.29664013,  0.11315091, -0.09537591,\n",
       "              -0.2108633 ,  0.        ,  0.        ], dtype=float32), action=0, reward=-0.4185679652552494, next_state=array([-0.09475346,  1.5589849 , -0.29664135,  0.08647498, -0.10591901,\n",
       "              -0.21086171,  0.        ,  0.        ], dtype=float32), t=26, failed=False, limit=False),\n",
       "       SARS(state=array([-0.09475346,  1.5589849 , -0.29664135,  0.08647498, -0.10591901,\n",
       "              -0.21086171,  0.        ,  0.        ], dtype=float32), action=1, reward=-1.3595127212680598, next_state=array([-0.09790287,  1.5603527 , -0.30625948,  0.06015057, -0.11453293,\n",
       "              -0.17227861,  0.        ,  0.        ], dtype=float32), t=27, failed=False, limit=False),\n",
       "       SARS(state=array([-0.09790287,  1.5603527 , -0.30625948,  0.06015057, -0.11453293,\n",
       "              -0.17227861,  0.        ,  0.        ], dtype=float32), action=1, reward=-1.541709673226818, next_state=array([-0.10114641,  1.5611492 , -0.31812504,  0.03491179, -0.12072428,\n",
       "              -0.12382732,  0.        ,  0.        ], dtype=float32), t=28, failed=False, limit=False),\n",
       "       SARS(state=array([-0.10114641,  1.5611492 , -0.31812504,  0.03491179, -0.12072428,\n",
       "              -0.12382732,  0.        ,  0.        ], dtype=float32), action=1, reward=-1.2643971168685073, next_state=array([-0.10446481,  1.5613649 , -0.3275412 ,  0.00923129, -0.12499864,\n",
       "              -0.08548743,  0.        ,  0.        ], dtype=float32), t=29, failed=False, limit=False),\n",
       "       SARS(state=array([-0.10446481,  1.5613649 , -0.3275412 ,  0.00923129, -0.12499864,\n",
       "              -0.08548743,  0.        ,  0.        ], dtype=float32), action=0, reward=-0.4450129054061165, next_state=array([-0.10778312,  1.5609807 , -0.32754153, -0.01743689, -0.12927301,\n",
       "              -0.08548729,  0.        ,  0.        ], dtype=float32), t=30, failed=False, limit=False),\n",
       "       SARS(state=array([-0.10778312,  1.5609807 , -0.32754153, -0.01743689, -0.12927301,\n",
       "              -0.08548729,  0.        ,  0.        ], dtype=float32), action=2, reward=0.7263193054232147, next_state=array([-0.11095915,  1.5608716 , -0.31361634, -0.00520074, -0.13324256,\n",
       "              -0.07939108,  0.        ,  0.        ], dtype=float32), t=31, failed=False, limit=False),\n",
       "       SARS(state=array([-0.11095915,  1.5608716 , -0.31361634, -0.00520074, -0.13324256,\n",
       "              -0.07939108,  0.        ,  0.        ], dtype=float32), action=2, reward=-1.0611021064903412, next_state=array([-0.11415367,  1.5614552 , -0.31484205,  0.02551981, -0.13782656,\n",
       "              -0.09168019,  0.        ,  0.        ], dtype=float32), t=32, failed=False, limit=False),\n",
       "       SARS(state=array([-0.11415367,  1.5614552 , -0.31484205,  0.02551981, -0.13782656,\n",
       "              -0.09168019,  0.        ,  0.        ], dtype=float32), action=1, reward=-1.0521093515074245, next_state=array([-1.1741237e-01,  1.5614456e+00, -3.2290107e-01, -7.0489448e-04,\n",
       "              -1.4078902e-01, -5.9249513e-02,  0.0000000e+00,  0.0000000e+00],\n",
       "             dtype=float32), t=33, failed=False, limit=False),\n",
       "       SARS(state=array([-1.1741237e-01,  1.5614456e+00, -3.2290107e-01, -7.0489448e-04,\n",
       "              -1.4078902e-01, -5.9249513e-02,  0.0000000e+00,  0.0000000e+00],\n",
       "             dtype=float32), action=2, reward=1.2093177919620473, next_state=array([-0.12048435,  1.5616721 , -0.3047219 ,  0.00982844, -0.14325823,\n",
       "              -0.04938387,  0.        ,  0.        ], dtype=float32), t=34, failed=False, limit=False),\n",
       "       SARS(state=array([-0.12048435,  1.5616721 , -0.3047219 ,  0.00982844, -0.14325823,\n",
       "              -0.04938387,  0.        ,  0.        ], dtype=float32), action=3, reward=0.4520249030327943, next_state=array([-0.12348118,  1.5612751 , -0.2952575 , -0.01807715, -0.14767031,\n",
       "              -0.08824172,  0.        ,  0.        ], dtype=float32), t=35, failed=False, limit=False),\n",
       "       SARS(state=array([-0.12348118,  1.5612751 , -0.2952575 , -0.01807715, -0.14767031,\n",
       "              -0.08824172,  0.        ,  0.        ], dtype=float32), action=1, reward=-1.4323270849943117, next_state=array([-0.12655544,  1.5602931 , -0.3049892 , -0.0438857 , -0.15010697,\n",
       "              -0.04873319,  0.        ,  0.        ], dtype=float32), t=36, failed=False, limit=False),\n",
       "       SARS(state=array([-0.12655544,  1.5602931 , -0.3049892 , -0.0438857 , -0.15010697,\n",
       "              -0.04873319,  0.        ,  0.        ], dtype=float32), action=0, reward=-0.6024738436163659, next_state=array([-0.1296297 ,  1.5587112 , -0.30498928, -0.07055286, -0.15254362,\n",
       "              -0.04873317,  0.        ,  0.        ], dtype=float32), t=37, failed=False, limit=False),\n",
       "       SARS(state=array([-0.1296297 ,  1.5587112 , -0.30498928, -0.07055286, -0.15254362,\n",
       "              -0.04873317,  0.        ,  0.        ], dtype=float32), action=3, reward=0.07577694579805552, next_state=array([-0.13260718,  1.5565015 , -0.2928073 , -0.09872627, -0.15747818,\n",
       "              -0.09869085,  0.        ,  0.        ], dtype=float32), t=38, failed=False, limit=False),\n",
       "       SARS(state=array([-0.13260718,  1.5565015 , -0.2928073 , -0.09872627, -0.15747818,\n",
       "              -0.09869085,  0.        ,  0.        ], dtype=float32), action=1, reward=-1.7374785914790596, next_state=array([-0.13564634,  1.5537133 , -0.30058846, -0.12427505, -0.16080734,\n",
       "              -0.06658304,  0.        ,  0.        ], dtype=float32), t=39, failed=False, limit=False),\n",
       "       SARS(state=array([-0.13564634,  1.5537133 , -0.30058846, -0.12427505, -0.16080734,\n",
       "              -0.06658304,  0.        ,  0.        ], dtype=float32), action=2, reward=0.982372620066809, next_state=array([-0.13863583,  1.5515505 , -0.29524544, -0.09653103, -0.16451524,\n",
       "              -0.07415789,  0.        ,  0.        ], dtype=float32), t=40, failed=False, limit=False),\n",
       "       SARS(state=array([-0.13863583,  1.5515505 , -0.29524544, -0.09653103, -0.16451524,\n",
       "              -0.07415789,  0.        ,  0.        ], dtype=float32), action=3, reward=-0.3784005372527577, next_state=array([-0.14154044,  1.5487573 , -0.28453556, -0.12481103, -0.17043896,\n",
       "              -0.11847429,  0.        ,  0.        ], dtype=float32), t=41, failed=False, limit=False),\n",
       "       SARS(state=array([-0.14154044,  1.5487573 , -0.28453556, -0.12481103, -0.17043896,\n",
       "              -0.11847429,  0.        ,  0.        ], dtype=float32), action=2, reward=-0.6084489937574518, next_state=array([-0.14447793,  1.5461771 , -0.2872675 , -0.11542552, -0.17693883,\n",
       "              -0.12999748,  0.        ,  0.        ], dtype=float32), t=42, failed=False, limit=False),\n",
       "       SARS(state=array([-0.14447793,  1.5461771 , -0.2872675 , -0.11542552, -0.17693883,\n",
       "              -0.12999748,  0.        ,  0.        ], dtype=float32), action=1, reward=-1.9452206461360777, next_state=array([-0.14747468,  1.543022  , -0.29474393, -0.14082713, -0.18188049,\n",
       "              -0.09883292,  0.        ,  0.        ], dtype=float32), t=43, failed=False, limit=False),\n",
       "       SARS(state=array([-0.14747468,  1.543022  , -0.29474393, -0.14082713, -0.18188049,\n",
       "              -0.09883292,  0.        ,  0.        ], dtype=float32), action=2, reward=2.7278045133398736, next_state=array([-0.1502634 ,  1.5406643 , -0.27412516, -0.10538406, -0.18665633,\n",
       "              -0.09551667,  0.        ,  0.        ], dtype=float32), t=44, failed=False, limit=False),\n",
       "       SARS(state=array([-0.1502634 ,  1.5406643 , -0.27412516, -0.10538406, -0.18665633,\n",
       "              -0.09551667,  0.        ,  0.        ], dtype=float32), action=1, reward=-1.8023603355018725, next_state=array([-0.15311345,  1.5377213 , -0.28180617, -0.13120356, -0.1898612 ,\n",
       "              -0.06409808,  0.        ,  0.        ], dtype=float32), t=45, failed=False, limit=False),\n",
       "       SARS(state=array([-0.15311345,  1.5377213 , -0.28180617, -0.13120356, -0.1898612 ,\n",
       "              -0.06409808,  0.        ,  0.        ], dtype=float32), action=1, reward=-1.7807998394844151, next_state=array([-0.15603141,  1.5341908 , -0.2903319 , -0.15709421, -0.19133411,\n",
       "              -0.02945847,  0.        ,  0.        ], dtype=float32), t=46, failed=False, limit=False),\n",
       "       SARS(state=array([-0.15603141,  1.5341908 , -0.2903319 , -0.15709421, -0.19133411,\n",
       "              -0.02945847,  0.        ,  0.        ], dtype=float32), action=3, reward=-0.5533384188098001, next_state=array([-0.15886831,  1.530043  , -0.28016418, -0.18481186, -0.19488154,\n",
       "              -0.07094856,  0.        ,  0.        ], dtype=float32), t=47, failed=False, limit=False),\n",
       "       SARS(state=array([-0.15886831,  1.530043  , -0.28016418, -0.18481186, -0.19488154,\n",
       "              -0.07094856,  0.        ,  0.        ], dtype=float32), action=3, reward=-1.0395452491308095, next_state=array([-0.16163225,  1.5252644 , -0.27094534, -0.21310712, -0.20035954,\n",
       "              -0.10956017,  0.        ,  0.        ], dtype=float32), t=48, failed=False, limit=False),\n",
       "       SARS(state=array([-0.16163225,  1.5252644 , -0.27094534, -0.21310712, -0.20035954,\n",
       "              -0.10956017,  0.        ,  0.        ], dtype=float32), action=1, reward=-2.238350517775159, next_state=array([-0.16447143,  1.5199032 , -0.28040147, -0.23875442, -0.20390506,\n",
       "              -0.07091054,  0.        ,  0.        ], dtype=float32), t=49, failed=False, limit=False),\n",
       "       SARS(state=array([-0.16447143,  1.5199032 , -0.28040147, -0.23875442, -0.20390506,\n",
       "              -0.07091054,  0.        ,  0.        ], dtype=float32), action=2, reward=3.9466335900273863, next_state=array([-0.16709661,  1.5154444 , -0.25903976, -0.19865552, -0.20742013,\n",
       "              -0.07030097,  0.        ,  0.        ], dtype=float32), t=50, failed=False, limit=False),\n",
       "       SARS(state=array([-0.16709661,  1.5154444 , -0.25903976, -0.19865552, -0.20742013,\n",
       "              -0.07030097,  0.        ,  0.        ], dtype=float32), action=0, reward=-1.5659294464127242, next_state=array([-0.1697218 ,  1.5103856 , -0.25904006, -0.22532319, -0.21093519,\n",
       "              -0.07030091,  0.        ,  0.        ], dtype=float32), t=51, failed=False, limit=False),\n",
       "       SARS(state=array([-0.1697218 ,  1.5103856 , -0.25904006, -0.22532319, -0.21093519,\n",
       "              -0.07030091,  0.        ,  0.        ], dtype=float32), action=2, reward=2.6130830086523646, next_state=array([-0.1721466 ,  1.5057777 , -0.23921585, -0.20526868, -0.21422191,\n",
       "              -0.06573437,  0.        ,  0.        ], dtype=float32), t=52, failed=False, limit=False),\n",
       "       SARS(state=array([-0.1721466 ,  1.5057777 , -0.23921585, -0.20526868, -0.21422191,\n",
       "              -0.06573437,  0.        ,  0.        ], dtype=float32), action=1, reward=-2.0277577623409955, next_state=array([-0.1746439 ,  1.5006016 , -0.2483979 , -0.23024209, -0.2155756 ,\n",
       "              -0.02707425,  0.        ,  0.        ], dtype=float32), t=53, failed=False, limit=False),\n",
       "       SARS(state=array([-0.1746439 ,  1.5006016 , -0.2483979 , -0.23024209, -0.2155756 ,\n",
       "              -0.02707425,  0.        ,  0.        ], dtype=float32), action=1, reward=-1.8146794242722126, next_state=array([-0.17721042,  1.4948531 , -0.25711778, -0.25542164, -0.21510315,\n",
       "               0.00944921,  0.        ,  0.        ], dtype=float32), t=54, failed=False, limit=False),\n",
       "       SARS(state=array([-0.17721042,  1.4948531 , -0.25711778, -0.25542164, -0.21510315,\n",
       "               0.00944921,  0.        ,  0.        ], dtype=float32), action=3, reward=-0.9194012124008839, next_state=array([-0.17969027,  1.488478  , -0.24622293, -0.28359774, -0.21688399,\n",
       "              -0.03561673,  0.        ,  0.        ], dtype=float32), t=55, failed=False, limit=False),\n",
       "       SARS(state=array([-0.17969027,  1.488478  , -0.24622293, -0.28359774, -0.21688399,\n",
       "              -0.03561673,  0.        ,  0.        ], dtype=float32), action=1, reward=-1.9417130577110686, next_state=array([-0.18226376,  1.4815409 , -0.25803095, -0.30820572, -0.21618795,\n",
       "               0.01392073,  0.        ,  0.        ], dtype=float32), t=56, failed=False, limit=False),\n",
       "       SARS(state=array([-0.18226376,  1.4815409 , -0.25803095, -0.30820572, -0.21618795,\n",
       "               0.01392073,  0.        ,  0.        ], dtype=float32), action=0, reward=-1.2935566759501285, next_state=array([-0.18483725,  1.4740041 , -0.25803095, -0.33487245, -0.21549192,\n",
       "               0.01392073,  0.        ,  0.        ], dtype=float32), t=57, failed=False, limit=False),\n",
       "       SARS(state=array([-0.18483725,  1.4740041 , -0.25803095, -0.33487245, -0.21549192,\n",
       "               0.01392073,  0.        ,  0.        ], dtype=float32), action=2, reward=4.983911576633159, next_state=array([-0.18712234,  1.4672611 , -0.22957489, -0.29953802, -0.21441242,\n",
       "               0.02158968,  0.        ,  0.        ], dtype=float32), t=58, failed=False, limit=False),\n",
       "       SARS(state=array([-0.18712234,  1.4672611 , -0.22957489, -0.29953802, -0.21441242,\n",
       "               0.02158968,  0.        ,  0.        ], dtype=float32), action=0, reward=-1.342431969972239, next_state=array([-0.18940735,  1.4599179 , -0.22957495, -0.3262048 , -0.21333294,\n",
       "               0.02158968,  0.        ,  0.        ], dtype=float32), t=59, failed=False, limit=False),\n",
       "       SARS(state=array([-0.18940735,  1.4599179 , -0.22957495, -0.3262048 , -0.21333294,\n",
       "               0.02158968,  0.        ,  0.        ], dtype=float32), action=1, reward=-1.5966186258307562, next_state=array([-0.1917735 ,  1.4520042 , -0.23978734, -0.35126296, -0.21012588,\n",
       "               0.06414121,  0.        ,  0.        ], dtype=float32), t=60, failed=False, limit=False),\n",
       "       SARS(state=array([-0.1917735 ,  1.4520042 , -0.23978734, -0.35126296, -0.21012588,\n",
       "               0.06414121,  0.        ,  0.        ], dtype=float32), action=0, reward=-1.0944488195486315, next_state=array([-0.19413967,  1.4434907 , -0.23978762, -0.3779305 , -0.2069188 ,\n",
       "               0.06414117,  0.        ,  0.        ], dtype=float32), t=61, failed=False, limit=False),\n",
       "       SARS(state=array([-0.19413967,  1.4434907 , -0.23978762, -0.3779305 , -0.2069188 ,\n",
       "               0.06414117,  0.        ,  0.        ], dtype=float32), action=0, reward=-1.0815292091292292, next_state=array([-0.19650583,  1.4343773 , -0.23978786, -0.40459803, -0.20371173,\n",
       "               0.06414114,  0.        ,  0.        ], dtype=float32), t=62, failed=False, limit=False),\n",
       "       SARS(state=array([-0.19650583,  1.4343773 , -0.23978786, -0.40459803, -0.20371173,\n",
       "               0.06414114,  0.        ,  0.        ], dtype=float32), action=1, reward=-1.2520346877815018, next_state=array([-0.19894381,  1.4246852 , -0.24884152, -0.43007538, -0.19863813,\n",
       "               0.10147209,  0.        ,  0.        ], dtype=float32), t=63, failed=False, limit=False),\n",
       "       SARS(state=array([-0.19894381,  1.4246852 , -0.24884152, -0.43007538, -0.19863813,\n",
       "               0.10147209,  0.        ,  0.        ], dtype=float32), action=2, reward=4.824518695462143, next_state=array([-0.20133634,  1.4159374 , -0.24356234, -0.38822225, -0.19429831,\n",
       "               0.08679622,  0.        ,  0.        ], dtype=float32), t=64, failed=False, limit=False),\n",
       "       SARS(state=array([-0.20133634,  1.4159374 , -0.24356234, -0.38822225, -0.19429831,\n",
       "               0.08679622,  0.        ,  0.        ], dtype=float32), action=2, reward=3.8709844770859663, next_state=array([-0.20368114,  1.4079274 , -0.23821905, -0.35551232, -0.19053921,\n",
       "               0.07518221,  0.        ,  0.        ], dtype=float32), t=65, failed=False, limit=False),\n",
       "       SARS(state=array([-0.20368114,  1.4079274 , -0.23821905, -0.35551232, -0.19053921,\n",
       "               0.07518221,  0.        ,  0.        ], dtype=float32), action=3, reward=-0.8874731921938224, next_state=array([-0.20595494,  1.3992976 , -0.22929266, -0.38330793, -0.18861617,\n",
       "               0.03846087,  0.        ,  0.        ], dtype=float32), t=66, failed=False, limit=False),\n",
       "       SARS(state=array([-0.20595494,  1.3992976 , -0.22929266, -0.38330793, -0.18861617,\n",
       "               0.03846087,  0.        ,  0.        ], dtype=float32), action=0, reward=-1.2365729903139595, next_state=array([-0.20822868,  1.3900678 , -0.22929275, -0.4099749 , -0.18669313,\n",
       "               0.03846084,  0.        ,  0.        ], dtype=float32), t=67, failed=False, limit=False),\n",
       "       SARS(state=array([-0.20822868,  1.3900678 , -0.22929275, -0.4099749 , -0.18669313,\n",
       "               0.03846084,  0.        ,  0.        ], dtype=float32), action=2, reward=4.4839883508855225, next_state=array([-0.21035337,  1.3816295 , -0.21426268, -0.37480873, -0.18488933,\n",
       "               0.03607611,  0.        ,  0.        ], dtype=float32), t=68, failed=False, limit=False),\n",
       "       SARS(state=array([-0.21035337,  1.3816295 , -0.21426268, -0.37480873, -0.18488933,\n",
       "               0.03607611,  0.        ,  0.        ], dtype=float32), action=2, reward=3.86255300406732, next_state=array([-0.21231775,  1.3738246 , -0.19826365, -0.34666222, -0.18305631,\n",
       "               0.03666041,  0.        ,  0.        ], dtype=float32), t=69, failed=False, limit=False),\n",
       "       SARS(state=array([-0.21231775,  1.3738246 , -0.19826365, -0.34666222, -0.18305631,\n",
       "               0.03666041,  0.        ,  0.        ], dtype=float32), action=1, reward=-1.5365857690819371, next_state=array([-0.21437111,  1.3654532 , -0.20948735, -0.37155312, -0.17889082,\n",
       "               0.08330955,  0.        ,  0.        ], dtype=float32), t=70, failed=False, limit=False),\n",
       "       SARS(state=array([-0.21437111,  1.3654532 , -0.20948735, -0.37155312, -0.17889082,\n",
       "               0.08330955,  0.        ,  0.        ], dtype=float32), action=0, reward=-1.0715750604121865, next_state=array([-0.21642447,  1.356482  , -0.20948777, -0.39822128, -0.17472537,\n",
       "               0.08330943,  0.        ,  0.        ], dtype=float32), t=71, failed=False, limit=False),\n",
       "       SARS(state=array([-0.21642447,  1.356482  , -0.20948777, -0.39822128, -0.17472537,\n",
       "               0.08330943,  0.        ,  0.        ], dtype=float32), action=2, reward=2.045251825606198, next_state=array([-0.21835867,  1.3476458 , -0.197724  , -0.39222077, -0.17041133,\n",
       "               0.08628071,  0.        ,  0.        ], dtype=float32), t=72, failed=False, limit=False),\n",
       "       SARS(state=array([-0.21835867,  1.3476458 , -0.197724  , -0.39222077, -0.17041133,\n",
       "               0.08628071,  0.        ,  0.        ], dtype=float32), action=0, reward=-1.0654368639143001, next_state=array([-0.2202928 ,  1.3382099 , -0.1977244 , -0.41888896, -0.1660973 ,\n",
       "               0.08628058,  0.        ,  0.        ], dtype=float32), t=73, failed=False, limit=False),\n",
       "       SARS(state=array([-0.2202928 ,  1.3382099 , -0.1977244 , -0.41888896, -0.1660973 ,\n",
       "               0.08628058,  0.        ,  0.        ], dtype=float32), action=2, reward=3.25906357445744, next_state=array([-0.22224984,  1.3293848 , -0.19929008, -0.3918271 , -0.1625054 ,\n",
       "               0.07183829,  0.        ,  0.        ], dtype=float32), t=74, failed=False, limit=False),\n",
       "       SARS(state=array([-0.22224984,  1.3293848 , -0.19929008, -0.3918271 , -0.1625054 ,\n",
       "               0.07183829,  0.        ,  0.        ], dtype=float32), action=0, reward=-1.136705909822524, next_state=array([-0.22420678,  1.3199599 , -0.19929035, -0.41849482, -0.15891351,\n",
       "               0.07183822,  0.        ,  0.        ], dtype=float32), t=75, failed=False, limit=False),\n",
       "       SARS(state=array([-0.22420678,  1.3199599 , -0.19929035, -0.41849482, -0.15891351,\n",
       "               0.07183822,  0.        ,  0.        ], dtype=float32), action=2, reward=2.2255822283044724, next_state=array([-0.22605881,  1.3107433 , -0.18887886, -0.40923154, -0.15523686,\n",
       "               0.07353282,  0.        ,  0.        ], dtype=float32), t=76, failed=False, limit=False),\n",
       "       SARS(state=array([-0.22605881,  1.3107433 , -0.18887886, -0.40923154, -0.15523686,\n",
       "               0.07353282,  0.        ,  0.        ], dtype=float32), action=0, reward=-1.131401459480486, next_state=array([-0.2279108 ,  1.300927  , -0.18887912, -0.43589932, -0.15156022,\n",
       "               0.07353273,  0.        ,  0.        ], dtype=float32), t=77, failed=False, limit=False),\n",
       "       SARS(state=array([-0.2279108 ,  1.300927  , -0.18887912, -0.43589932, -0.15156022,\n",
       "               0.07353273,  0.        ,  0.        ], dtype=float32), action=0, reward=-1.0970077716065418, next_state=array([-0.22976275,  1.2905109 , -0.18887939, -0.46256712, -0.14788358,\n",
       "               0.07353269,  0.        ,  0.        ], dtype=float32), t=78, failed=False, limit=False),\n",
       "       SARS(state=array([-0.22976275,  1.2905109 , -0.18887939, -0.46256712, -0.14788358,\n",
       "               0.07353269,  0.        ,  0.        ], dtype=float32), action=1, reward=-1.209585422939283, next_state=array([-0.23169112,  1.279501  , -0.19844389, -0.48878363, -0.14228746,\n",
       "               0.11192211,  0.        ,  0.        ], dtype=float32), t=79, failed=False, limit=False),\n",
       "       SARS(state=array([-0.23169112,  1.279501  , -0.19844389, -0.48878363, -0.14228746,\n",
       "               0.11192211,  0.        ,  0.        ], dtype=float32), action=1, reward=-0.9417686343842593, next_state=array([-0.23370962,  1.267909  , -0.20976801, -0.5144612 , -0.13439345,\n",
       "               0.15788005,  0.        ,  0.        ], dtype=float32), t=80, failed=False, limit=False),\n",
       "       SARS(state=array([-0.23370962,  1.267909  , -0.20976801, -0.5144612 , -0.13439345,\n",
       "               0.15788005,  0.        ,  0.        ], dtype=float32), action=0, reward=-0.5275115854034311, next_state=array([-0.23572803,  1.255718  , -0.2097691 , -0.54113305, -0.12649949,\n",
       "               0.1578794 ,  0.        ,  0.        ], dtype=float32), t=81, failed=False, limit=False),\n",
       "       SARS(state=array([-0.23572803,  1.255718  , -0.2097691 , -0.54113305, -0.12649949,\n",
       "               0.1578794 ,  0.        ,  0.        ], dtype=float32), action=1, reward=-0.5585492652046173, next_state=array([-0.2378213 ,  1.2429488 , -0.21920042, -0.56671447, -0.11668001,\n",
       "               0.1963895 ,  0.        ,  0.        ], dtype=float32), t=82, failed=False, limit=False),\n",
       "       SARS(state=array([-0.2378213 ,  1.2429488 , -0.21920042, -0.56671447, -0.11668001,\n",
       "               0.1963895 ,  0.        ,  0.        ], dtype=float32), action=1, reward=-0.3593390186255465, next_state=array([-0.23998466,  1.2295892 , -0.22800906, -0.59289104, -0.10508697,\n",
       "               0.23186107,  0.        ,  0.        ], dtype=float32), t=83, failed=False, limit=False),\n",
       "       SARS(state=array([-0.23998466,  1.2295892 , -0.22800906, -0.59289104, -0.10508697,\n",
       "               0.23186107,  0.        ,  0.        ], dtype=float32), action=1, reward=-0.1322614520329057, next_state=array([-0.2422289 ,  1.2156438 , -0.2381765 , -0.61888885, -0.09144248,\n",
       "               0.27288964,  0.        ,  0.        ], dtype=float32), t=84, failed=False, limit=False),\n",
       "       SARS(state=array([-0.2422289 ,  1.2156438 , -0.2381765 , -0.61888885, -0.09144248,\n",
       "               0.27288964,  0.        ,  0.        ], dtype=float32), action=1, reward=0.17139007334870485, next_state=array([-0.24453196,  1.2011145 , -0.24560067, -0.6448752 , -0.07629398,\n",
       "               0.30297   ,  0.        ,  0.        ], dtype=float32), t=85, failed=False, limit=False),\n",
       "       SARS(state=array([-0.24453196,  1.2011145 , -0.24560067, -0.6448752 , -0.07629398,\n",
       "               0.30297   ,  0.        ,  0.        ], dtype=float32), action=0, reward=0.44972206828137473, next_state=array([-0.24683495,  1.1859883 , -0.24560308, -0.671561  , -0.06114573,\n",
       "               0.30296522,  0.        ,  0.        ], dtype=float32), t=86, failed=False, limit=False),\n",
       "       SARS(state=array([-0.24683495,  1.1859883 , -0.24560308, -0.671561  , -0.06114573,\n",
       "               0.30296522,  0.        ,  0.        ], dtype=float32), action=3, reward=0.5382731440693374, next_state=array([-0.24905816,  1.1702541 , -0.23561017, -0.698806  , -0.04800853,\n",
       "               0.262744  ,  0.        ,  0.        ], dtype=float32), t=87, failed=False, limit=False),\n",
       "       SARS(state=array([-0.24905816,  1.1702541 , -0.23561017, -0.698806  , -0.04800853,\n",
       "               0.262744  ,  0.        ,  0.        ], dtype=float32), action=2, reward=5.7098569212235875, next_state=array([-0.25129333,  1.1553181 , -0.23654845, -0.6634556 , -0.03513416,\n",
       "               0.25748748,  0.        ,  0.        ], dtype=float32), t=88, failed=False, limit=False),\n",
       "       SARS(state=array([-0.25129333,  1.1553181 , -0.23654845, -0.6634556 , -0.03513416,\n",
       "               0.25748748,  0.        ,  0.        ], dtype=float32), action=3, reward=0.3727546097195227, next_state=array([-0.25343102,  1.1397902 , -0.22433572, -0.6899188 , -0.02470147,\n",
       "               0.20865385,  0.        ,  0.        ], dtype=float32), t=89, failed=False, limit=False),\n",
       "       SARS(state=array([-0.25343102,  1.1397902 , -0.22433572, -0.6899188 , -0.02470147,\n",
       "               0.20865385,  0.        ,  0.        ], dtype=float32), action=0, reward=0.028335099971968702, next_state=array([-0.25556874,  1.1236638 , -0.2243361 , -0.7165946 , -0.01426885,\n",
       "               0.20865229,  0.        ,  0.        ], dtype=float32), t=90, failed=False, limit=False),\n",
       "       SARS(state=array([-0.25556874,  1.1236638 , -0.2243361 , -0.7165946 , -0.01426885,\n",
       "               0.20865229,  0.        ,  0.        ], dtype=float32), action=1, reward=-0.013592389785883369, next_state=array([-0.25777942,  1.1069455 , -0.23349157, -0.742963  , -0.00200136,\n",
       "               0.24534974,  0.        ,  0.        ], dtype=float32), t=91, failed=False, limit=False),\n",
       "       SARS(state=array([-0.25777942,  1.1069455 , -0.23349157, -0.742963  , -0.00200136,\n",
       "               0.24534974,  0.        ,  0.        ], dtype=float32), action=3, reward=-1.2693003360920716, next_state=array([-0.25990534,  1.0896254 , -0.22286448, -0.76980495,  0.00813761,\n",
       "               0.20277949,  0.        ,  0.        ], dtype=float32), t=92, failed=False, limit=False),\n",
       "       SARS(state=array([-0.25990534,  1.0896254 , -0.22286448, -0.76980495,  0.00813761,\n",
       "               0.20277949,  0.        ,  0.        ], dtype=float32), action=1, reward=-2.2527757308069156, next_state=array([-0.26209086,  1.0717118 , -0.23033488, -0.79626447,  0.01977187,\n",
       "               0.23268504,  0.        ,  0.        ], dtype=float32), t=93, failed=False, limit=False),\n",
       "       SARS(state=array([-0.26209086,  1.0717118 , -0.23033488, -0.79626447,  0.01977187,\n",
       "               0.23268504,  0.        ,  0.        ], dtype=float32), action=2, reward=3.580126433360374, next_state=array([-0.2642135 ,  1.0545746 , -0.22442849, -0.7618567 ,  0.03178006,\n",
       "               0.24016373,  0.        ,  0.        ], dtype=float32), t=94, failed=False, limit=False),\n",
       "       SARS(state=array([-0.2642135 ,  1.0545746 , -0.22442849, -0.7618567 ,  0.03178006,\n",
       "               0.24016373,  0.        ,  0.        ], dtype=float32), action=2, reward=2.9718312529394213, next_state=array([-0.26628333,  1.0381027 , -0.21950838, -0.7324018 ,  0.04415618,\n",
       "               0.24752259,  0.        ,  0.        ], dtype=float32), t=95, failed=False, limit=False),\n",
       "       SARS(state=array([-0.26628333,  1.0381027 , -0.21950838, -0.7324018 ,  0.04415618,\n",
       "               0.24752259,  0.        ,  0.        ], dtype=float32), action=0, reward=-2.1967455895557464, next_state=array([-0.26835316,  1.0210328 , -0.21950762, -0.75908124,  0.05653217,\n",
       "               0.24751993,  0.        ,  0.        ], dtype=float32), t=96, failed=False, limit=False),\n",
       "       SARS(state=array([-0.26835316,  1.0210328 , -0.21950762, -0.75908124,  0.05653217,\n",
       "               0.24751993,  0.        ,  0.        ], dtype=float32), action=0, reward=-2.149769125138164, next_state=array([-0.2704231 ,  1.0033652 , -0.21950665, -0.7857607 ,  0.06890803,\n",
       "               0.24751732,  0.        ,  0.        ], dtype=float32), t=97, failed=False, limit=False),\n",
       "       SARS(state=array([-0.2704231 ,  1.0033652 , -0.21950665, -0.7857607 ,  0.06890803,\n",
       "               0.24751732,  0.        ,  0.        ], dtype=float32), action=1, reward=-2.6298095306651974, next_state=array([-0.27257252,  0.98509455, -0.22945836, -0.8127601 ,  0.08328057,\n",
       "               0.28745085,  0.        ,  0.        ], dtype=float32), t=98, failed=False, limit=False),\n",
       "       SARS(state=array([-0.27257252,  0.98509455, -0.22945836, -0.8127601 ,  0.08328057,\n",
       "               0.28745085,  0.        ,  0.        ], dtype=float32), action=3, reward=-1.8681983470141563, next_state=array([-0.27465406,  0.96622825, -0.22093065, -0.83925736,  0.0959456 ,\n",
       "               0.25330064,  0.        ,  0.        ], dtype=float32), t=99, failed=False, limit=False),\n",
       "       SARS(state=array([-0.27465406,  0.96622825, -0.22093065, -0.83925736,  0.0959456 ,\n",
       "               0.25330064,  0.        ,  0.        ], dtype=float32), action=1, reward=-2.6549837274315267, next_state=array([-0.2768221 ,  0.9467461 , -0.23178038, -0.86690533,  0.11080879,\n",
       "               0.29726362,  0.        ,  0.        ], dtype=float32), t=100, failed=False, limit=False),\n",
       "       SARS(state=array([-0.2768221 ,  0.9467461 , -0.23178038, -0.86690533,  0.11080879,\n",
       "               0.29726362,  0.        ,  0.        ], dtype=float32), action=0, reward=-2.203429389617469, next_state=array([-0.27899033,  0.92666674, -0.2317775 , -0.89359033,  0.12567174,\n",
       "               0.29725915,  0.        ,  0.        ], dtype=float32), t=101, failed=False, limit=False),\n",
       "       SARS(state=array([-0.27899033,  0.92666674, -0.2317775 , -0.89359033,  0.12567174,\n",
       "               0.29725915,  0.        ,  0.        ], dtype=float32), action=1, reward=-2.7215891458185397, next_state=array([-0.28123483,  0.9059711 , -0.24132732, -0.92131895,  0.14248203,\n",
       "               0.33620566,  0.        ,  0.        ], dtype=float32), t=102, failed=False, limit=False),\n",
       "       SARS(state=array([-0.28123483,  0.9059711 , -0.24132732, -0.92131895,  0.14248203,\n",
       "               0.33620566,  0.        ,  0.        ], dtype=float32), action=3, reward=-1.7461302149453946, next_state=array([-0.2834    ,  0.88470584, -0.23128434, -0.946602  ,  0.15722641,\n",
       "               0.29488796,  0.        ,  0.        ], dtype=float32), t=103, failed=False, limit=False),\n",
       "       SARS(state=array([-0.2834    ,  0.88470584, -0.23128434, -0.946602  ,  0.15722641,\n",
       "               0.29488796,  0.        ,  0.        ], dtype=float32), action=0, reward=-2.056769586829887, next_state=array([-0.28556547,  0.86284345, -0.23128024, -0.9732866 ,  0.17197059,\n",
       "               0.29488352,  0.        ,  0.        ], dtype=float32), t=104, failed=False, limit=False),\n",
       "       SARS(state=array([-0.28556547,  0.86284345, -0.23128024, -0.9732866 ,  0.17197059,\n",
       "               0.29488352,  0.        ,  0.        ], dtype=float32), action=0, reward=-2.012815848189291, next_state=array([-0.28773123,  0.8403839 , -0.23127575, -0.9999712 ,  0.18671454,\n",
       "               0.29487914,  0.        ,  0.        ], dtype=float32), t=105, failed=False, limit=False),\n",
       "       SARS(state=array([-0.28773123,  0.8403839 , -0.23127575, -0.9999712 ,  0.18671454,\n",
       "               0.29487914,  0.        ,  0.        ], dtype=float32), action=3, reward=-1.3755174084635928, next_state=array([-0.28981262,  0.8173601 , -0.2205796 , -1.0248957 ,  0.1992308 ,\n",
       "               0.25032496,  0.        ,  0.        ], dtype=float32), t=106, failed=False, limit=False),\n",
       "       SARS(state=array([-0.28981262,  0.8173601 , -0.2205796 , -1.0248957 ,  0.1992308 ,\n",
       "               0.25032496,  0.        ,  0.        ], dtype=float32), action=3, reward=-1.3032221264466262, next_state=array([-0.29183578,  0.79376423, -0.21320136, -1.0502136 ,  0.21019731,\n",
       "               0.21933016,  0.        ,  0.        ], dtype=float32), t=107, failed=False, limit=False),\n",
       "       SARS(state=array([-0.29183578,  0.79376423, -0.21320136, -1.0502136 ,  0.21019731,\n",
       "               0.21933016,  0.        ,  0.        ], dtype=float32), action=1, reward=-2.0196110995936167, next_state=array([-0.29392427,  0.76954365, -0.22139461, -1.0783027 ,  0.22288053,\n",
       "               0.2536642 ,  0.        ,  0.        ], dtype=float32), t=108, failed=False, limit=False),\n",
       "       SARS(state=array([-0.29392427,  0.76954365, -0.22139461, -1.0783027 ,  0.22288053,\n",
       "               0.2536642 ,  0.        ,  0.        ], dtype=float32), action=3, reward=-1.0226008184406783, next_state=array([-0.29591736,  0.74475634, -0.20936532, -1.1032177 ,  0.2330676 ,\n",
       "               0.20374148,  0.        ,  0.        ], dtype=float32), t=109, failed=False, limit=False),\n",
       "       SARS(state=array([-0.29591736,  0.74475634, -0.20936532, -1.1032177 ,  0.2330676 ,\n",
       "               0.20374148,  0.        ,  0.        ], dtype=float32), action=0, reward=-1.362929631282043, next_state=array([-0.2979107 ,  0.7193702 , -0.20936239, -1.1298926 ,  0.2432546 ,\n",
       "               0.20374003,  0.        ,  0.        ], dtype=float32), t=110, failed=False, limit=False),\n",
       "       SARS(state=array([-0.2979107 ,  0.7193702 , -0.20936239, -1.1298926 ,  0.2432546 ,\n",
       "               0.20374003,  0.        ,  0.        ], dtype=float32), action=3, reward=-0.8863997053597632, next_state=array([-0.29984388,  0.6934187 , -0.20170803, -1.1548126 ,  0.2517944 ,\n",
       "               0.17079586,  0.        ,  0.        ], dtype=float32), t=111, failed=False, limit=False),\n",
       "       SARS(state=array([-0.29984388,  0.6934187 , -0.20170803, -1.1548126 ,  0.2517944 ,\n",
       "               0.17079586,  0.        ,  0.        ], dtype=float32), action=0, reward=-1.1323957821138038, next_state=array([-0.30177727,  0.66686815, -0.20170578, -1.181485  ,  0.26033413,\n",
       "               0.170795  ,  0.        ,  0.        ], dtype=float32), t=112, failed=False, limit=False),\n",
       "       SARS(state=array([-0.30177727,  0.66686815, -0.20170578, -1.181485  ,  0.26033413,\n",
       "               0.170795  ,  0.        ,  0.        ], dtype=float32), action=1, reward=-1.5514653718680893, next_state=array([-0.30377477,  0.6396987 , -0.20973015, -1.2093438 ,  0.27054238,\n",
       "               0.2041647 ,  0.        ,  0.        ], dtype=float32), t=113, failed=False, limit=False),\n",
       "       SARS(state=array([-0.30377477,  0.6396987 , -0.20973015, -1.2093438 ,  0.27054238,\n",
       "               0.2041647 ,  0.        ,  0.        ], dtype=float32), action=3, reward=-0.6699933807721823, next_state=array([-0.30569583,  0.61197424, -0.19999364, -1.2336806 ,  0.27863586,\n",
       "               0.16186945,  0.        ,  0.        ], dtype=float32), t=114, failed=False, limit=False),\n",
       "       SARS(state=array([-0.30569583,  0.61197424, -0.19999364, -1.2336806 ,  0.27863586,\n",
       "               0.16186945,  0.        ,  0.        ], dtype=float32), action=0, reward=-1.0105165919590888, next_state=array([-0.307617  ,  0.58365047, -0.19999138, -1.2603525 ,  0.2867293 ,\n",
       "               0.16186874,  0.        ,  0.        ], dtype=float32), t=115, failed=False, limit=False),\n",
       "       SARS(state=array([-0.307617  ,  0.58365047, -0.19999138, -1.2603525 ,  0.2867293 ,\n",
       "               0.16186874,  0.        ,  0.        ], dtype=float32), action=2, reward=3.6402763455567824, next_state=array([-0.30969852,  0.5559494 , -0.21635516, -1.2327935 ,  0.29517698,\n",
       "               0.16895325,  0.        ,  0.        ], dtype=float32), t=116, failed=False, limit=False),\n",
       "       SARS(state=array([-0.30969852,  0.5559494 , -0.21635516, -1.2327935 ,  0.29517698,\n",
       "               0.16895325,  0.        ,  0.        ], dtype=float32), action=0, reward=-1.1214761265584912, next_state=array([-0.3117803 ,  0.52764916, -0.21635258, -1.2594658 ,  0.3036246 ,\n",
       "               0.16895252,  0.        ,  0.        ], dtype=float32), t=117, failed=False, limit=False),\n",
       "       SARS(state=array([-0.3117803 ,  0.52764916, -0.21635258, -1.2594658 ,  0.3036246 ,\n",
       "               0.16895252,  0.        ,  0.        ], dtype=float32), action=1, reward=-1.5695727372043098, next_state=array([-0.31392765,  0.4987316 , -0.22452576, -1.287305  ,  0.31376612,\n",
       "               0.20283067,  0.        ,  0.        ], dtype=float32), t=118, failed=False, limit=False),\n",
       "       SARS(state=array([-0.31392765,  0.4987316 , -0.22452576, -1.287305  ,  0.31376612,\n",
       "               0.20283067,  0.        ,  0.        ], dtype=float32), action=3, reward=-0.7302898875361723, next_state=array([-0.31600076,  0.46925628, -0.21508877, -1.3117148 ,  0.32184646,\n",
       "               0.16160646,  0.        ,  0.        ], dtype=float32), t=119, failed=False, limit=False),\n",
       "       SARS(state=array([-0.31600076,  0.46925628, -0.21508877, -1.3117148 ,  0.32184646,\n",
       "               0.16160646,  0.        ,  0.        ], dtype=float32), action=2, reward=3.0124035174283508, next_state=array([-0.31816345,  0.4402626 , -0.22465849, -1.2905006 ,  0.33058837,\n",
       "               0.17483829,  0.        ,  0.        ], dtype=float32), t=120, failed=False, limit=False),\n",
       "       SARS(state=array([-0.31816345,  0.4402626 , -0.22465849, -1.2905006 ,  0.33058837,\n",
       "               0.17483829,  0.        ,  0.        ], dtype=float32), action=0, reward=-1.2658318955041352, next_state=array([-0.3203264 ,  0.41066974, -0.22465539, -1.3171735 ,  0.33933023,\n",
       "               0.17483735,  0.        ,  0.        ], dtype=float32), t=121, failed=False, limit=False),\n",
       "       SARS(state=array([-0.3203264 ,  0.41066974, -0.22465539, -1.3171735 ,  0.33933023,\n",
       "               0.17483735,  0.        ,  0.        ], dtype=float32), action=0, reward=-1.2978067953839059, next_state=array([-0.3224895 ,  0.38047794, -0.22465222, -1.3438461 ,  0.34807205,\n",
       "               0.17483644,  0.        ,  0.        ], dtype=float32), t=122, failed=False, limit=False),\n",
       "       SARS(state=array([-0.3224895 ,  0.38047794, -0.22465222, -1.3438461 ,  0.34807205,\n",
       "               0.17483644,  0.        ,  0.        ], dtype=float32), action=2, reward=0.3149031624058239, next_state=array([-0.32477325,  0.35019094, -0.23669162, -1.3481282 ,  0.3568202 ,\n",
       "               0.17496309,  0.        ,  0.        ], dtype=float32), t=123, failed=False, limit=False),\n",
       "       SARS(state=array([-0.32477325,  0.35019094, -0.23669162, -1.3481282 ,  0.3568202 ,\n",
       "               0.17496309,  0.        ,  0.        ], dtype=float32), action=1, reward=-2.0972272679996977, next_state=array([-0.3271382 ,  0.319267  , -0.24687247, -1.3770138 ,  0.3677712 ,\n",
       "               0.21902029,  0.        ,  0.        ], dtype=float32), t=124, failed=False, limit=False),\n",
       "       SARS(state=array([-0.3271382 ,  0.319267  , -0.24687247, -1.3770138 ,  0.3677712 ,\n",
       "               0.21902029,  0.        ,  0.        ], dtype=float32), action=3, reward=-1.105505754786775, next_state=array([-0.3294212 ,  0.28779295, -0.23644397, -1.4009621 ,  0.37640375,\n",
       "               0.17265101,  0.        ,  0.        ], dtype=float32), t=125, failed=False, limit=False),\n",
       "       SARS(state=array([-0.3294212 ,  0.28779295, -0.23644397, -1.4009621 ,  0.37640375,\n",
       "               0.17265101,  0.        ,  0.        ], dtype=float32), action=0, reward=-1.6343567482010712, next_state=array([-0.33170438,  0.2557198 , -0.23644058, -1.4276345 ,  0.38503626,\n",
       "               0.17265037,  0.        ,  0.        ], dtype=float32), t=126, failed=False, limit=False),\n",
       "       SARS(state=array([-0.33170438,  0.2557198 , -0.23644058, -1.4276345 ,  0.38503626,\n",
       "               0.17265037,  0.        ,  0.        ], dtype=float32), action=1, reward=-2.2652068441787194, next_state=array([-0.3340481 ,  0.2230186 , -0.24400838, -1.4560262 ,  0.39531773,\n",
       "               0.2056292 ,  0.        ,  0.        ], dtype=float32), t=127, failed=False, limit=False),\n",
       "       SARS(state=array([-0.3340481 ,  0.2230186 , -0.24400838, -1.4560262 ,  0.39531773,\n",
       "               0.2056292 ,  0.        ,  0.        ], dtype=float32), action=0, reward=-2.114470581259951, next_state=array([-0.3363921 ,  0.18971874, -0.2440033 , -1.482701  ,  0.40559912,\n",
       "               0.20562768,  0.        ,  0.        ], dtype=float32), t=128, failed=False, limit=False),\n",
       "       SARS(state=array([-0.3363921 ,  0.18971874, -0.2440033 , -1.482701  ,  0.40559912,\n",
       "               0.20562768,  0.        ,  0.        ], dtype=float32), action=0, reward=-2.3261235610166864, next_state=array([-0.33873653,  0.15582004, -0.24399813, -1.5093758 ,  0.41588044,\n",
       "               0.20562622,  0.        ,  0.        ], dtype=float32), t=129, failed=False, limit=False),\n",
       "       SARS(state=array([-0.33873653,  0.15582004, -0.24399813, -1.5093758 ,  0.41588044,\n",
       "               0.20562622,  0.        ,  0.        ], dtype=float32), action=2, reward=1.4879499060424564, next_state=array([-0.34155196,  0.12251037, -0.2905736 , -1.4831231 ,  0.42564982,\n",
       "               0.19538778,  0.        ,  0.        ], dtype=float32), t=130, failed=False, limit=False),\n",
       "       SARS(state=array([-0.34155196,  0.12251037, -0.2905736 , -1.4831231 ,  0.42564982,\n",
       "               0.19538778,  0.        ,  0.        ], dtype=float32), action=3, reward=-2.0868240448724564, next_state=array([-0.34428272,  0.08866583, -0.27974075, -1.5062346 ,  0.43288827,\n",
       "               0.14476904,  0.        ,  0.        ], dtype=float32), t=131, failed=False, limit=False),\n",
       "       SARS(state=array([-0.34428272,  0.08866583, -0.27974075, -1.5062346 ,  0.43288827,\n",
       "               0.14476904,  0.        ,  0.        ], dtype=float32), action=3, reward=-2.4138077359358747, next_state=array([-0.3469603 ,  0.05426718, -0.2729041 , -1.5304236 ,  0.43849078,\n",
       "               0.11205003,  0.        ,  0.        ], dtype=float32), t=132, failed=False, limit=False),\n",
       "       SARS(state=array([-0.3469603 ,  0.05426718, -0.2729041 , -1.5304236 ,  0.43849078,\n",
       "               0.11205003,  0.        ,  0.        ], dtype=float32), action=2, reward=1.0661795139996684, next_state=array([-0.34989285,  0.0204167 , -0.2987915 , -1.5062065 ,  0.44452804,\n",
       "               0.12074556,  0.        ,  0.        ], dtype=float32), t=133, failed=False, limit=False),\n",
       "       SARS(state=array([-0.34989285,  0.0204167 , -0.2987915 , -1.5062065 ,  0.44452804,\n",
       "               0.12074556,  0.        ,  0.        ], dtype=float32), action=2, reward=-0.7247513641869319, next_state=array([-0.35330668, -0.01311574, -0.34617454, -1.4918606 ,  0.4497727 ,\n",
       "               0.10489313,  0.        ,  0.        ], dtype=float32), t=134, failed=False, limit=False),\n",
       "       SARS(state=array([-0.35330668, -0.01311574, -0.34617454, -1.4918606 ,  0.4497727 ,\n",
       "               0.10489313,  0.        ,  0.        ], dtype=float32), action=2, reward=-0.5197077674786101, next_state=array([-0.35705286, -0.04624553, -0.37935522, -1.4739705 ,  0.454977  ,\n",
       "               0.10408566,  0.        ,  0.        ], dtype=float32), t=135, failed=False, limit=False),\n",
       "       SARS(state=array([-0.35705286, -0.04624553, -0.37935522, -1.4739705 ,  0.454977  ,\n",
       "               0.10408566,  0.        ,  0.        ], dtype=float32), action=2, reward=7.928552669980644, next_state=array([-0.36083555, -0.07940328, -0.38357002, -1.4754148 ,  0.46080422,\n",
       "               0.11654446,  0.        ,  1.        ], dtype=float32), t=136, failed=False, limit=False),\n",
       "       SARS(state=array([-0.36083555, -0.07940328, -0.38357002, -1.4754148 ,  0.46080422,\n",
       "               0.11654446,  0.        ,  1.        ], dtype=float32), action=0, reward=-100, next_state=array([-0.3654448 , -0.11121189, -0.6005801 , -1.0576987 ,  0.4176382 ,\n",
       "              -4.2564173 ,  1.        ,  1.        ], dtype=float32), t=137, failed=True, limit=False)])"
      ]
     },
     "execution_count": 33,
     "metadata": {},
     "output_type": "execute_result"
    }
   ],
   "source": [
    "replay_buffer"
   ]
  },
  {
   "cell_type": "markdown",
   "id": "a88986d2",
   "metadata": {},
   "source": [
    "# Polyak Averaging"
   ]
  },
  {
   "cell_type": "code",
   "execution_count": 34,
   "id": "131ea41e",
   "metadata": {},
   "outputs": [
    {
     "data": {
      "text/plain": [
       "Parameter containing:\n",
       "tensor([[ 0.0869,  0.2175, -0.2735,  ...,  0.3220,  0.1154,  0.1878],\n",
       "        [ 0.1990,  0.3471, -0.2968,  ..., -0.2157,  0.0724,  0.1855],\n",
       "        [-0.1839, -0.2129, -0.2688,  ..., -0.2809, -0.0641, -0.3218],\n",
       "        ...,\n",
       "        [ 0.0303,  0.1337, -0.0363,  ..., -0.1207,  0.2753,  0.2580],\n",
       "        [ 0.3386, -0.3390,  0.0697,  ..., -0.2697, -0.2651, -0.3351],\n",
       "        [ 0.2313,  0.1664, -0.1894,  ..., -0.1986,  0.1208,  0.0946]],\n",
       "       device='cuda:0', requires_grad=True)"
      ]
     },
     "execution_count": 34,
     "metadata": {},
     "output_type": "execute_result"
    }
   ],
   "source": [
    "test_parameter_1 = next(policy.policy_network.named_parameters())[1]\n",
    "test_parameter_1"
   ]
  },
  {
   "cell_type": "code",
   "execution_count": 35,
   "id": "52883c87",
   "metadata": {},
   "outputs": [
    {
     "data": {
      "text/plain": [
       "tensor([[0.0128, 0.0128, 0.0128,  ..., 0.0128, 0.0128, 0.0128],\n",
       "        [0.0128, 0.0128, 0.0128,  ..., 0.0128, 0.0128, 0.0128],\n",
       "        [0.0128, 0.0128, 0.0128,  ..., 0.0128, 0.0128, 0.0128],\n",
       "        ...,\n",
       "        [0.0128, 0.0128, 0.0128,  ..., 0.0128, 0.0128, 0.0128],\n",
       "        [0.0128, 0.0128, 0.0128,  ..., 0.0128, 0.0128, 0.0128],\n",
       "        [0.0128, 0.0128, 0.0128,  ..., 0.0128, 0.0128, 0.0128]],\n",
       "       device='cuda:0', grad_fn=<AddBackward0>)"
      ]
     },
     "execution_count": 35,
     "metadata": {},
     "output_type": "execute_result"
    }
   ],
   "source": [
    "test_parameter_2 = test_parameter_1 * 0 + 0.0128\n",
    "test_parameter_2"
   ]
  },
  {
   "cell_type": "code",
   "execution_count": 36,
   "id": "8f54a772",
   "metadata": {},
   "outputs": [
    {
     "data": {
      "text/plain": [
       "tensor([[ 0.0795,  0.1971, -0.2448,  ...,  0.2910,  0.1051,  0.1703],\n",
       "        [ 0.1804,  0.3136, -0.2659,  ..., -0.1928,  0.0664,  0.1683],\n",
       "        [-0.1642, -0.1903, -0.2406,  ..., -0.2515, -0.0564, -0.2883],\n",
       "        ...,\n",
       "        [ 0.0285,  0.1216, -0.0314,  ..., -0.1073,  0.2490,  0.2335],\n",
       "        [ 0.3060, -0.3038,  0.0640,  ..., -0.2415, -0.2373, -0.3003],\n",
       "        [ 0.2094,  0.1510, -0.1692,  ..., -0.1774,  0.1100,  0.0864]],\n",
       "       device='cuda:0', grad_fn=<AddBackward0>)"
      ]
     },
     "execution_count": 36,
     "metadata": {},
     "output_type": "execute_result"
    }
   ],
   "source": [
    "test_parameter_1 * 0.9 + test_parameter_2 * 0.1"
   ]
  },
  {
   "cell_type": "code",
   "execution_count": 37,
   "id": "83a08ea4",
   "metadata": {},
   "outputs": [],
   "source": [
    "def polyak_update(network_to_update, target_network, tau=0.001):\n",
    "    with torch.no_grad():\n",
    "        for to_update, target in zip(network_to_update.parameters(), target_network.parameters()):\n",
    "            to_update *= 1-tau\n",
    "            to_update += target * tau"
   ]
  },
  {
   "cell_type": "code",
   "execution_count": 38,
   "id": "b8cc28e8",
   "metadata": {},
   "outputs": [
    {
     "data": {
      "text/plain": [
       "Parameter containing:\n",
       "tensor([[-0.1968, -0.3133, -0.2435,  0.4103, -0.0227],\n",
       "        [ 0.1414,  0.0650,  0.1183, -0.2331,  0.3288],\n",
       "        [-0.3775, -0.1019, -0.2006, -0.2421, -0.1323],\n",
       "        ...,\n",
       "        [-0.3563,  0.0161, -0.2362, -0.3596, -0.1366],\n",
       "        [-0.3776, -0.0514,  0.3088, -0.4080,  0.2523],\n",
       "        [-0.2336,  0.2381,  0.3409,  0.4260, -0.1260]], requires_grad=True)"
      ]
     },
     "metadata": {},
     "output_type": "display_data"
    },
    {
     "data": {
      "text/plain": [
       "Parameter containing:\n",
       "tensor([[-0.0745, -0.2795,  0.2351,  0.1722, -0.2248],\n",
       "        [ 0.0416, -0.1377,  0.3076,  0.0011, -0.0033],\n",
       "        [-0.1036, -0.1190,  0.1200, -0.2078,  0.3957],\n",
       "        ...,\n",
       "        [ 0.3820, -0.3246,  0.1918, -0.2696, -0.2560],\n",
       "        [-0.3427, -0.3578, -0.1116, -0.1990,  0.0619],\n",
       "        [ 0.1042, -0.0303,  0.1295, -0.2048,  0.0961]], requires_grad=True)"
      ]
     },
     "metadata": {},
     "output_type": "display_data"
    },
    {
     "data": {
      "text/plain": [
       "Parameter containing:\n",
       "tensor([[-0.1968, -0.3133, -0.2435,  0.4103, -0.0227],\n",
       "        [ 0.1414,  0.0650,  0.1183, -0.2331,  0.3288],\n",
       "        [-0.3775, -0.1019, -0.2006, -0.2421, -0.1323],\n",
       "        ...,\n",
       "        [-0.3563,  0.0161, -0.2362, -0.3596, -0.1366],\n",
       "        [-0.3776, -0.0514,  0.3088, -0.4080,  0.2523],\n",
       "        [-0.2336,  0.2381,  0.3409,  0.4260, -0.1260]], requires_grad=True)"
      ]
     },
     "metadata": {},
     "output_type": "display_data"
    },
    {
     "data": {
      "text/plain": [
       "Parameter containing:\n",
       "tensor([[-0.0867, -0.2829,  0.1872,  0.1960, -0.2045],\n",
       "        [ 0.0515, -0.1174,  0.2887, -0.0223,  0.0299],\n",
       "        [-0.1310, -0.1173,  0.0880, -0.2112,  0.3429],\n",
       "        ...,\n",
       "        [ 0.3082, -0.2905,  0.1490, -0.2786, -0.2440],\n",
       "        [-0.3462, -0.3271, -0.0696, -0.2199,  0.0810],\n",
       "        [ 0.0704, -0.0034,  0.1507, -0.1417,  0.0739]], requires_grad=True)"
      ]
     },
     "metadata": {},
     "output_type": "display_data"
    }
   ],
   "source": [
    "test_network_1 = QNetwork(5, 3)\n",
    "test_network_2 = QNetwork(5, 3)\n",
    "display(list(test_network_1.parameters())[0])\n",
    "display(list(test_network_2.parameters())[0])\n",
    "polyak_update(test_network_2, test_network_1, 0.1)\n",
    "display(list(test_network_1.parameters())[0])\n",
    "display(list(test_network_2.parameters())[0])"
   ]
  },
  {
   "cell_type": "markdown",
   "id": "936a6271",
   "metadata": {},
   "source": [
    "# Log Experiments"
   ]
  },
  {
   "cell_type": "code",
   "execution_count": 39,
   "id": "6d9242c1",
   "metadata": {},
   "outputs": [
    {
     "data": {
      "text/plain": [
       "0.99"
      ]
     },
     "metadata": {},
     "output_type": "display_data"
    },
    {
     "data": {
      "text/plain": [
       "array([0.01005034, 4.60517019])"
      ]
     },
     "metadata": {},
     "output_type": "display_data"
    },
    {
     "data": {
      "text/plain": [
       "4.615220521841592"
      ]
     },
     "metadata": {},
     "output_type": "display_data"
    },
    {
     "data": {
      "text/plain": [
       "0.9"
      ]
     },
     "metadata": {},
     "output_type": "display_data"
    },
    {
     "data": {
      "text/plain": [
       "array([0.10536052, 2.30258509])"
      ]
     },
     "metadata": {},
     "output_type": "display_data"
    },
    {
     "data": {
      "text/plain": [
       "2.4079456086518722"
      ]
     },
     "metadata": {},
     "output_type": "display_data"
    },
    {
     "data": {
      "text/plain": [
       "0.8"
      ]
     },
     "metadata": {},
     "output_type": "display_data"
    },
    {
     "data": {
      "text/plain": [
       "array([0.22314355, 1.60943791])"
      ]
     },
     "metadata": {},
     "output_type": "display_data"
    },
    {
     "data": {
      "text/plain": [
       "1.8325814637483102"
      ]
     },
     "metadata": {},
     "output_type": "display_data"
    },
    {
     "data": {
      "text/plain": [
       "0.6"
      ]
     },
     "metadata": {},
     "output_type": "display_data"
    },
    {
     "data": {
      "text/plain": [
       "array([0.51082562, 0.91629073])"
      ]
     },
     "metadata": {},
     "output_type": "display_data"
    },
    {
     "data": {
      "text/plain": [
       "1.4271163556401456"
      ]
     },
     "metadata": {},
     "output_type": "display_data"
    },
    {
     "data": {
      "text/plain": [
       "0.5"
      ]
     },
     "metadata": {},
     "output_type": "display_data"
    },
    {
     "data": {
      "text/plain": [
       "array([0.69314718, 0.69314718])"
      ]
     },
     "metadata": {},
     "output_type": "display_data"
    },
    {
     "data": {
      "text/plain": [
       "1.3862943611198906"
      ]
     },
     "metadata": {},
     "output_type": "display_data"
    }
   ],
   "source": [
    "for p in [0.99, 0.9, 0.8, 0.6, 0.5]:\n",
    "    logs = -np.log([p, 1-p])\n",
    "    display(p, logs, sum(logs))"
   ]
  },
  {
   "cell_type": "code",
   "execution_count": 40,
   "id": "4e37d9ce",
   "metadata": {},
   "outputs": [
    {
     "data": {
      "text/plain": [
       "[SARS(state=array([-0.00682869,  1.4283781 , -0.34536165,  0.3750935 ,  0.00783391,\n",
       "         0.0774275 ,  0.        ,  0.        ], dtype=float32), action=0, reward=0.7514958865412495, next_state=array([-0.01024332,  1.4362193 , -0.34537405,  0.34847087,  0.01170254,\n",
       "         0.07737967,  0.        ,  0.        ], dtype=float32), t=2, failed=False, limit=False),\n",
       " SARS(state=array([-0.19894381,  1.4246852 , -0.24884152, -0.43007538, -0.19863813,\n",
       "         0.10147209,  0.        ,  0.        ], dtype=float32), action=2, reward=4.824518695462143, next_state=array([-0.20133634,  1.4159374 , -0.24356234, -0.38822225, -0.19429831,\n",
       "         0.08679622,  0.        ,  0.        ], dtype=float32), t=64, failed=False, limit=False),\n",
       " SARS(state=array([-0.20368114,  1.4079274 , -0.23821905, -0.35551232, -0.19053921,\n",
       "         0.07518221,  0.        ,  0.        ], dtype=float32), action=3, reward=-0.8874731921938224, next_state=array([-0.20595494,  1.3992976 , -0.22929266, -0.38330793, -0.18861617,\n",
       "         0.03846087,  0.        ,  0.        ], dtype=float32), t=66, failed=False, limit=False),\n",
       " SARS(state=array([-0.13863583,  1.5515505 , -0.29524544, -0.09653103, -0.16451524,\n",
       "        -0.07415789,  0.        ,  0.        ], dtype=float32), action=3, reward=-0.3784005372527577, next_state=array([-0.14154044,  1.5487573 , -0.28453556, -0.12481103, -0.17043896,\n",
       "        -0.11847429,  0.        ,  0.        ], dtype=float32), t=41, failed=False, limit=False)]"
      ]
     },
     "execution_count": 40,
     "metadata": {},
     "output_type": "execute_result"
    }
   ],
   "source": [
    "random.sample(replay_buffer, k=4)"
   ]
  },
  {
   "cell_type": "markdown",
   "id": "c4199269",
   "metadata": {},
   "source": [
    "# Training\n",
    "\n",
    "![Psudocode](sac_psudocode.png)\n",
    "\n",
    "Source: https://spinningup.openai.com/en/latest/algorithms/sac.html#pseudocode"
   ]
  },
  {
   "cell_type": "code",
   "execution_count": 41,
   "id": "8998ad64",
   "metadata": {},
   "outputs": [],
   "source": [
    "def q_min(q1, q2, states):\n",
    "    \n",
    "    def f(q):\n",
    "        state_values = q.forward(states.to(device)).detach()\n",
    "        return state_values\n",
    "        \n",
    "    return torch.minimum(*map(f, (q1, q2)))"
   ]
  },
  {
   "cell_type": "code",
   "execution_count": 42,
   "id": "6ef3f80e",
   "metadata": {},
   "outputs": [],
   "source": [
    "def train(policy, replay_buffer):\n",
    "    stats = {}\n",
    "    # Step 11\n",
    "    training_batch = random.sample(replay_buffer, k=min(len(replay_buffer), 100))\n",
    "    # Prep\n",
    "    states = torch.tensor(np.array([sars.state for sars in training_batch]), requires_grad=False).to(device)\n",
    "    actions = torch.tensor(np.array([sars.action for sars in training_batch]), requires_grad=False).to(device)\n",
    "    actions_hot = nn.functional.one_hot(actions, env.action_space.n).to(device)\n",
    "    rewards = torch.tensor(np.array([sars.reward for sars in training_batch]), requires_grad=False).to(device)\n",
    "    next_states = torch.tensor(np.array([sars.next_state for sars in training_batch]), requires_grad=False).to(device)\n",
    "    fails = torch.tensor(np.array([sars.failed for sars in training_batch]), dtype=int, requires_grad=False).to(device)\n",
    "    # Step 12\n",
    "    next_action_probs = policy.policy_network.forward(next_states.to(device)).detach()\n",
    "    assert not next_action_probs.requires_grad\n",
    "    next_states_q_min = q_min(policy.q1_target_network, policy.q2_target_network, next_states)\n",
    "    assert not next_states_q_min.requires_grad\n",
    "    next_actions_q_min = torch.sum(next_states_q_min * next_action_probs, 1)\n",
    "    assert not next_actions_q_min.requires_grad\n",
    "    next_actions_entropy = torch.sum(next_action_probs * torch.log(next_action_probs), 1)\n",
    "    assert not next_actions_entropy.requires_grad\n",
    "    y = rewards + GAMMA * (1-fails) * (next_actions_q_min - policy.alpha_dc * next_actions_entropy)\n",
    "    assert not y.requires_grad\n",
    "    # Step 13\n",
    "    for qi, q, opt in ((1, policy.q1_network, policy.q1_optimizer),\n",
    "                       (2, policy.q2_network, policy.q2_optimizer)):\n",
    "        assert not states.requires_grad\n",
    "        assert not actions_hot.requires_grad\n",
    "        q_state_action = torch.sum(q.forward(states.to(device)) * actions_hot, 1)\n",
    "        assert q_state_action.requires_grad\n",
    "        q_loss = torch.mean((q_state_action - y)**2)\n",
    "        assert q_loss.requires_grad\n",
    "        stats[f'train/q_loss_{qi}'] = q_loss.detach()\n",
    "        assert q_loss.requires_grad\n",
    "        opt.zero_grad()\n",
    "        q_loss.backward()\n",
    "        opt.step()\n",
    "    # Step 14\n",
    "    action_probs = policy.policy_network.forward(states)\n",
    "    assert action_probs.requires_grad\n",
    "    states_q_min = q_min(policy.q1_network, policy.q2_network, states)\n",
    "    assert not states_q_min.requires_grad\n",
    "    actions_q_min = torch.sum(states_q_min * action_probs, 1)\n",
    "    assert actions_q_min.requires_grad\n",
    "    actions_entropy = torch.sum(action_probs * torch.log(action_probs), 1)\n",
    "    assert actions_entropy.requires_grad\n",
    "    stats['train/entropy'] = -actions_entropy.detach().mean()\n",
    "    stats['train/entropy_percent'] = -actions_entropy.detach().mean() / log(action_probs.shape[1])\n",
    "    policy_loss = -1 * torch.mean(actions_q_min - policy.alpha_dc * actions_entropy)\n",
    "    assert policy_loss.requires_grad\n",
    "    stats['train/policy_loss'] = policy_loss.detach()\n",
    "    policy.policy_optimizer.zero_grad()\n",
    "    policy_loss.backward()\n",
    "    policy.policy_optimizer.step()\n",
    "    # Alpha Adjust\n",
    "    assert policy.alpha.requires_grad\n",
    "    assert action_probs.requires_grad\n",
    "    policy.alpha.requires_grad_(True)\n",
    "    alpha_optimizer = torch.optim.SGD([policy.alpha], lr=ALPHA_LR)\n",
    "    alpha_loss = -1 * policy.alpha * (actions_entropy.detach().mean() + ALPHA_TARGET)\n",
    "    assert alpha_loss.requires_grad\n",
    "    stats['train/alpha_loss'] = alpha_loss.detach()\n",
    "    alpha_optimizer.zero_grad()\n",
    "    alpha_loss.backward()\n",
    "    alpha_optimizer.step()\n",
    "    policy.alpha.data.clamp_(min=0)\n",
    "    stats['train/alpha'] = policy.alpha.detach()\n",
    "    # Step 15\n",
    "    polyak_update(policy.q1_target_network, policy.q1_network, tau=TAU)\n",
    "    polyak_update(policy.q2_target_network, policy.q2_network, tau=TAU)\n",
    "    return stats"
   ]
  },
  {
   "cell_type": "code",
   "execution_count": 43,
   "id": "96080451",
   "metadata": {},
   "outputs": [
    {
     "name": "stderr",
     "output_type": "stream",
     "text": [
      "100%|█████████████████████████████████████████████████████████████████████████████████████████████████████████████████| 4000/4000 [56:49<00:00,  1.17it/s]\n"
     ]
    }
   ],
   "source": [
    "tb_writer = SummaryWriter()\n",
    "\n",
    "oss = env.observation_space.shape\n",
    "if len(oss) != 1:\n",
    "    raise RuntimeError(f'Unknown observation_space.shape: {oss}')\n",
    "os_len = oss[0]\n",
    "policy = Policy(os_len, env.action_space.n)\n",
    "\n",
    "replay_buffer = deque(maxlen=30_000)\n",
    "\n",
    "def action(policy, s):\n",
    "    tensor_s = torch.tensor(s).reshape((1, -1))\n",
    "    action_weights = policy.policy_network.forward(tensor_s.to(device)).reshape((-1,)).tolist()\n",
    "    action = random.choices(range(len(action_weights)), weights=action_weights)[0]\n",
    "    return action\n",
    "\n",
    "def step(initial_s, a, r, next_s, t, failed, limit):\n",
    "    replay_buffer.append(SARS(initial_s, a, r, next_s, t, failed, limit))\n",
    "    if RENDER:\n",
    "        env.render()\n",
    "\n",
    "n_episodes = 4000\n",
    "for episode in tqdm.tqdm(range(1, n_episodes+1)):\n",
    "    episode_reward = run_episode(action, step, env, policy, fail_at_limit=True)\n",
    "    tb_writer.add_scalar('main/episode_reward', episode_reward, episode)\n",
    "    tb_writer.add_scalar('main/replay_buffer_length', len(replay_buffer), episode)\n",
    "    tb_writer.add_scalar('main/alpha_target', ALPHA_TARGET, episode)\n",
    "    tb_writer.add_scalar('main/alpha_target_percent', ALPHA_TARGET / log(env.action_space.n), episode)\n",
    "    policy.reset_optimizers()\n",
    "    for training_iteration in range(1, 100+1):\n",
    "        stats = train(policy, replay_buffer)\n",
    "        for stat, value in stats.items():\n",
    "            tb_writer.add_scalar(stat, value, episode)\n",
    "    if episode > n_episodes / 4:\n",
    "        ALPHA_TARGET *= 0.5**(1/1500)"
   ]
  },
  {
   "cell_type": "code",
   "execution_count": 45,
   "id": "69afe679",
   "metadata": {},
   "outputs": [
    {
     "name": "stdout",
     "output_type": "stream",
     "text": [
      "Mean score: 289\n"
     ]
    }
   ],
   "source": [
    "env = gym.make(\"LunarLander-v2\")\n",
    "\n",
    "def render_only(initial_s, a, r, next_s, t, failed, limit):\n",
    "    env.render()\n",
    "\n",
    "scores = []\n",
    "for episode in range(1, 10+1):\n",
    "    scores.append(run_episode(action, render_only, env, policy))\n",
    "\n",
    "print(f'Mean score: {sum(scores) / len(scores):.0f}')\n",
    "\n",
    "env.close()"
   ]
  }
 ],
 "metadata": {
  "kernelspec": {
   "display_name": "Python 3 (ipykernel)",
   "language": "python",
   "name": "python3"
  },
  "language_info": {
   "codemirror_mode": {
    "name": "ipython",
    "version": 3
   },
   "file_extension": ".py",
   "mimetype": "text/x-python",
   "name": "python",
   "nbconvert_exporter": "python",
   "pygments_lexer": "ipython3",
   "version": "3.10.4"
  }
 },
 "nbformat": 4,
 "nbformat_minor": 5
}
